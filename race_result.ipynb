{
 "cells": [
  {
   "cell_type": "code",
   "execution_count": 1,
   "metadata": {},
   "outputs": [
    {
     "data": {
      "text/html": [
       "<style>\n",
       "    div#notebook-container    { width: 100%; }\n",
       "    div#menubar-container     { width: 65%; }\n",
       "    div#maintoolbar-container { width: 99%; }\n",
       "</style>"
      ],
      "text/plain": [
       "<IPython.core.display.HTML object>"
      ]
     },
     "metadata": {},
     "output_type": "display_data"
    }
   ],
   "source": [
    "from raceresults import RaceResults"
   ]
  },
  {
   "cell_type": "code",
   "execution_count": 2,
   "metadata": {},
   "outputs": [],
   "source": [
    "rase_result = RaceResults()"
   ]
  },
  {
   "cell_type": "code",
   "execution_count": 5,
   "metadata": {
    "collapsed": true
   },
   "outputs": [
    {
     "name": "stdout",
     "output_type": "stream",
     "text": [
      "Send request to http://www1.mbrace.or.jp/od2/K/201910/k191001.lzh\n",
      "Unpacking ./data/k/lzh/191001.lzh\n",
      "Send request to http://www1.mbrace.or.jp/od2/K/201910/k191002.lzh\n",
      "Unpacking ./data/k/lzh/191002.lzh\n",
      "Send request to http://www1.mbrace.or.jp/od2/K/201910/k191003.lzh\n",
      "Unpacking ./data/k/lzh/191003.lzh\n",
      "Send request to http://www1.mbrace.or.jp/od2/K/201910/k191004.lzh\n",
      "Unpacking ./data/k/lzh/191004.lzh\n",
      "Send request to http://www1.mbrace.or.jp/od2/K/201910/k191005.lzh\n",
      "Unpacking ./data/k/lzh/191005.lzh\n",
      "Send request to http://www1.mbrace.or.jp/od2/K/201910/k191006.lzh\n",
      "Unpacking ./data/k/lzh/191006.lzh\n",
      "Send request to http://www1.mbrace.or.jp/od2/K/201910/k191007.lzh\n",
      "Unpacking ./data/k/lzh/191007.lzh\n",
      "Send request to http://www1.mbrace.or.jp/od2/K/201910/k191008.lzh\n",
      "Unpacking ./data/k/lzh/191008.lzh\n",
      "Send request to http://www1.mbrace.or.jp/od2/K/201910/k191009.lzh\n",
      "Unpacking ./data/k/lzh/191009.lzh\n",
      "Send request to http://www1.mbrace.or.jp/od2/K/201910/k191010.lzh\n",
      "Unpacking ./data/k/lzh/191010.lzh\n",
      "Send request to http://www1.mbrace.or.jp/od2/K/201910/k191011.lzh\n",
      "Unpacking ./data/k/lzh/191011.lzh\n",
      "Send request to http://www1.mbrace.or.jp/od2/K/201910/k191012.lzh\n",
      "Unpacking ./data/k/lzh/191012.lzh\n",
      "Send request to http://www1.mbrace.or.jp/od2/K/201910/k191013.lzh\n",
      "Unpacking ./data/k/lzh/191013.lzh\n",
      "Send request to http://www1.mbrace.or.jp/od2/K/201910/k191014.lzh\n",
      "Unpacking ./data/k/lzh/191014.lzh\n",
      "Send request to http://www1.mbrace.or.jp/od2/K/201910/k191015.lzh\n",
      "Unpacking ./data/k/lzh/191015.lzh\n",
      "Send request to http://www1.mbrace.or.jp/od2/K/201910/k191016.lzh\n",
      "Unpacking ./data/k/lzh/191016.lzh\n",
      "Send request to http://www1.mbrace.or.jp/od2/K/201910/k191017.lzh\n",
      "Unpacking ./data/k/lzh/191017.lzh\n",
      "Send request to http://www1.mbrace.or.jp/od2/K/201910/k191018.lzh\n",
      "Unpacking ./data/k/lzh/191018.lzh\n",
      "Send request to http://www1.mbrace.or.jp/od2/K/201910/k191019.lzh\n",
      "Unpacking ./data/k/lzh/191019.lzh\n",
      "Send request to http://www1.mbrace.or.jp/od2/K/201910/k191020.lzh\n",
      "Unpacking ./data/k/lzh/191020.lzh\n",
      "Send request to http://www1.mbrace.or.jp/od2/K/201910/k191021.lzh\n",
      "Unpacking ./data/k/lzh/191021.lzh\n",
      "Send request to http://www1.mbrace.or.jp/od2/K/201910/k191022.lzh\n",
      "Unpacking ./data/k/lzh/191022.lzh\n",
      "Send request to http://www1.mbrace.or.jp/od2/K/201910/k191023.lzh\n",
      "Unpacking ./data/k/lzh/191023.lzh\n",
      "Send request to http://www1.mbrace.or.jp/od2/K/201910/k191024.lzh\n",
      "Unpacking ./data/k/lzh/191024.lzh\n",
      "Send request to http://www1.mbrace.or.jp/od2/K/201910/k191025.lzh\n",
      "Unpacking ./data/k/lzh/191025.lzh\n",
      "Send request to http://www1.mbrace.or.jp/od2/K/201910/k191026.lzh\n",
      "Unpacking ./data/k/lzh/191026.lzh\n",
      "Send request to http://www1.mbrace.or.jp/od2/K/201910/k191027.lzh\n",
      "Unpacking ./data/k/lzh/191027.lzh\n",
      "Send request to http://www1.mbrace.or.jp/od2/K/201910/k191028.lzh\n",
      "Unpacking ./data/k/lzh/191028.lzh\n",
      "Send request to http://www1.mbrace.or.jp/od2/K/201910/k191029.lzh\n",
      "Unpacking ./data/k/lzh/191029.lzh\n",
      "Send request to http://www1.mbrace.or.jp/od2/K/201910/k191030.lzh\n",
      "Unpacking ./data/k/lzh/191030.lzh\n",
      "Send request to http://www1.mbrace.or.jp/od2/K/201910/k191031.lzh\n",
      "Unpacking ./data/k/lzh/191031.lzh\n",
      "Send request to http://www1.mbrace.or.jp/od2/K/201911/k191101.lzh\n",
      "Unpacking ./data/k/lzh/191101.lzh\n",
      "Send request to http://www1.mbrace.or.jp/od2/K/201911/k191102.lzh\n",
      "Unpacking ./data/k/lzh/191102.lzh\n",
      "Send request to http://www1.mbrace.or.jp/od2/K/201911/k191103.lzh\n",
      "Unpacking ./data/k/lzh/191103.lzh\n",
      "Send request to http://www1.mbrace.or.jp/od2/K/201911/k191104.lzh\n",
      "Unpacking ./data/k/lzh/191104.lzh\n",
      "Send request to http://www1.mbrace.or.jp/od2/K/201911/k191105.lzh\n",
      "Unpacking ./data/k/lzh/191105.lzh\n",
      "Send request to http://www1.mbrace.or.jp/od2/K/201911/k191106.lzh\n",
      "Unpacking ./data/k/lzh/191106.lzh\n",
      "Send request to http://www1.mbrace.or.jp/od2/K/201911/k191107.lzh\n",
      "Unpacking ./data/k/lzh/191107.lzh\n",
      "Send request to http://www1.mbrace.or.jp/od2/K/201911/k191108.lzh\n"
     ]
    },
    {
     "ename": "KeyboardInterrupt",
     "evalue": "",
     "output_type": "error",
     "traceback": [
      "\u001b[0;31m---------------------------------------------------------------------------\u001b[0m",
      "\u001b[0;31mKeyboardInterrupt\u001b[0m                         Traceback (most recent call last)",
      "\u001b[0;32m<ipython-input-5-e2e27ac451df>\u001b[0m in \u001b[0;36m<module>\u001b[0;34m()\u001b[0m\n\u001b[0;32m----> 1\u001b[0;31m \u001b[0mrase_result\u001b[0m\u001b[0;34m.\u001b[0m\u001b[0mdownload\u001b[0m\u001b[0;34m(\u001b[0m\u001b[0;34m\"2019-10-01\"\u001b[0m\u001b[0;34m,\u001b[0m\u001b[0;34m\"2020-10-31\"\u001b[0m\u001b[0;34m)\u001b[0m\u001b[0;34m\u001b[0m\u001b[0;34m\u001b[0m\u001b[0m\n\u001b[0m\u001b[1;32m      2\u001b[0m \u001b[0mload_and_regist\u001b[0m\u001b[0;34m(\u001b[0m\u001b[0;34m)\u001b[0m\u001b[0;34m\u001b[0m\u001b[0;34m\u001b[0m\u001b[0m\n\u001b[1;32m      3\u001b[0m \u001b[0mr\u001b[0m\u001b[0;34m.\u001b[0m\u001b[0mget_results_pd\u001b[0m\u001b[0;34m(\u001b[0m\u001b[0;34m)\u001b[0m\u001b[0;34m\u001b[0m\u001b[0;34m\u001b[0m\u001b[0m\n",
      "\u001b[0;32m~/Works/Projects/izanami_machinelearning_develop/raceresults.py\u001b[0m in \u001b[0;36mdownload\u001b[0;34m(self, start, end)\u001b[0m\n\u001b[1;32m     45\u001b[0m                 \u001b[0mprint\u001b[0m\u001b[0;34m(\u001b[0m\u001b[0;34m\"Send request to\"\u001b[0m\u001b[0;34m,\u001b[0m \u001b[0muri\u001b[0m\u001b[0;34m)\u001b[0m\u001b[0;34m\u001b[0m\u001b[0;34m\u001b[0m\u001b[0m\n\u001b[1;32m     46\u001b[0m                 \u001b[0murllib\u001b[0m\u001b[0;34m.\u001b[0m\u001b[0mrequest\u001b[0m\u001b[0;34m.\u001b[0m\u001b[0murlretrieve\u001b[0m\u001b[0;34m(\u001b[0m\u001b[0muri\u001b[0m\u001b[0;34m,\u001b[0m \u001b[0msavename\u001b[0m\u001b[0;34m)\u001b[0m\u001b[0;34m\u001b[0m\u001b[0;34m\u001b[0m\u001b[0m\n\u001b[0;32m---> 47\u001b[0;31m                 \u001b[0mtime\u001b[0m\u001b[0;34m.\u001b[0m\u001b[0msleep\u001b[0m\u001b[0;34m(\u001b[0m\u001b[0;36m3\u001b[0m\u001b[0;34m)\u001b[0m\u001b[0;34m\u001b[0m\u001b[0;34m\u001b[0m\u001b[0m\n\u001b[0m\u001b[1;32m     48\u001b[0m \u001b[0;34m\u001b[0m\u001b[0m\n\u001b[1;32m     49\u001b[0m             \u001b[0munpackedpath\u001b[0m \u001b[0;34m=\u001b[0m \u001b[0;34m\"./data/k/K%s.TXT\"\u001b[0m \u001b[0;34m%\u001b[0m \u001b[0mlzhname\u001b[0m\u001b[0;34m\u001b[0m\u001b[0;34m\u001b[0m\u001b[0m\n",
      "\u001b[0;31mKeyboardInterrupt\u001b[0m: "
     ]
    }
   ],
   "source": [
    "rase_result.download(\"2019-10-01\",\"2019-10-31\")"
   ]
  },
  {
   "cell_type": "code",
   "execution_count": 6,
   "metadata": {},
   "outputs": [
    {
     "data": {
      "text/html": [
       "<div>\n",
       "<style scoped>\n",
       "    .dataframe tbody tr th:only-of-type {\n",
       "        vertical-align: middle;\n",
       "    }\n",
       "\n",
       "    .dataframe tbody tr th {\n",
       "        vertical-align: top;\n",
       "    }\n",
       "\n",
       "    .dataframe thead th {\n",
       "        text-align: right;\n",
       "    }\n",
       "</style>\n",
       "<table border=\"1\" class=\"dataframe\">\n",
       "  <thead>\n",
       "    <tr style=\"text-align: right;\">\n",
       "      <th></th>\n",
       "      <th>RACE_TIME</th>\n",
       "      <th>RACER_ID</th>\n",
       "      <th>PLACE</th>\n",
       "      <th>DISTANCE</th>\n",
       "      <th>COURSE</th>\n",
       "      <th>EXHIBITION_TIME</th>\n",
       "      <th>RACE_DATE</th>\n",
       "    </tr>\n",
       "  </thead>\n",
       "  <tbody>\n",
       "  </tbody>\n",
       "</table>\n",
       "</div>"
      ],
      "text/plain": [
       "Empty DataFrame\n",
       "Columns: [RACE_TIME, RACER_ID, PLACE, DISTANCE, COURSE, EXHIBITION_TIME, RACE_DATE]\n",
       "Index: []"
      ]
     },
     "execution_count": 6,
     "metadata": {},
     "output_type": "execute_result"
    }
   ],
   "source": [
    "rase_result.load_and_regist()\n",
    "rase_result.get_results_pd()"
   ]
  },
  {
   "cell_type": "code",
   "execution_count": null,
   "metadata": {},
   "outputs": [],
   "source": []
  }
 ],
 "metadata": {
  "kernelspec": {
   "display_name": "Python 3",
   "language": "python",
   "name": "python3"
  },
  "language_info": {
   "codemirror_mode": {
    "name": "ipython",
    "version": 3
   },
   "file_extension": ".py",
   "mimetype": "text/x-python",
   "name": "python",
   "nbconvert_exporter": "python",
   "pygments_lexer": "ipython3",
   "version": "3.6.7"
  }
 },
 "nbformat": 4,
 "nbformat_minor": 4
}
