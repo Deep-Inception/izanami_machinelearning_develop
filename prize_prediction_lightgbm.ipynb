{
 "cells": [
  {
   "cell_type": "code",
   "execution_count": 1,
   "metadata": {},
   "outputs": [],
   "source": [
    "import sqlite3\n",
    "import pandas as pd\n",
    "import lightgbm as lgb\n",
    "from sklearn.model_selection import train_test_split\n",
    "import optuna.integration.lightgbm as optlgb\n",
    "from sklearn.model_selection import KFold\n",
    "import numpy as np\n",
    "import datetime as dt\n",
    "from sklearn.metrics import confusion_matrix\n",
    "import seaborn as sns\n",
    "import matplotlib.pyplot as plt\n",
    "import race_data\n",
    "import models.ml_racer_prize_lgb as ml_lgb\n",
    "import models.preprocessing_racer_prize_lgb as pp_lgb"
   ]
  },
  {
   "cell_type": "code",
   "execution_count": 2,
   "metadata": {},
   "outputs": [],
   "source": [
    "dbname = \"backend.db\""
   ]
  },
  {
   "cell_type": "code",
   "execution_count": 3,
   "metadata": {},
   "outputs": [],
   "source": [
    "df_race = pd.DataFrame(race_data.get_results(dbname, \"race\", \"where status = 'FINISHED'\"), columns= race_data.RASE_COLS)"
   ]
  },
  {
   "cell_type": "code",
   "execution_count": 4,
   "metadata": {},
   "outputs": [],
   "source": [
    "df_timetable_racer = pd.DataFrame(race_data.get_results(dbname,\"timetable_racer\", None),columns= race_data.TIMETABLE_RACER_COLS)"
   ]
  },
  {
   "cell_type": "code",
   "execution_count": 5,
   "metadata": {},
   "outputs": [],
   "source": [
    "df_racer_result = pd.DataFrame(race_data.get_results(dbname, \"racer_result\", \"where time is not null\"),columns= race_data.RACER_RESULT_COLS)"
   ]
  },
  {
   "cell_type": "code",
   "execution_count": 15,
   "metadata": {},
   "outputs": [],
   "source": [
    "# 使わないセルを削除\n",
    "df_race.drop([\"title_name\", \"create_at\", \"status\"], axis=1, inplace=True)"
   ]
  },
  {
   "cell_type": "code",
   "execution_count": 16,
   "metadata": {},
   "outputs": [],
   "source": [
    "# 使わないセルを削除 resultはひとまず削除\n",
    "df_timetable_racer.drop([\"name\", \n",
    "                         \"result_1\", \n",
    "                         \"result_2\", \n",
    "                         \"result_3\", \n",
    "                         \"result_4\", \n",
    "                         \"result_5\", \n",
    "                         \"result_6\",\n",
    "                         \"create_at\"], axis=1, inplace=True)"
   ]
  },
  {
   "cell_type": "code",
   "execution_count": 17,
   "metadata": {},
   "outputs": [],
   "source": [
    "df_racer_result.drop([\"result_id\", \"create_at\"], axis=1, inplace=True)"
   ]
  },
  {
   "cell_type": "code",
   "execution_count": 17,
   "metadata": {},
   "outputs": [],
   "source": [
    "df_race.place = df_race.place.astype(np.int32)\n",
    "df_race.race_number = df_race.race_number.astype(np.int32)\n",
    "df_race.deadline = pd.to_datetime(df_race.deadline)"
   ]
  },
  {
   "cell_type": "code",
   "execution_count": 19,
   "metadata": {},
   "outputs": [],
   "source": [
    "df_timetable_racer.racer_id = df_timetable_racer.racer_id.astype(np.int32)\n",
    "df_timetable_racer.moter_id = df_timetable_racer.moter_id.astype(np.int32)\n",
    "df_timetable_racer.boat_id = df_timetable_racer.boat_id.astype(np.int32)"
   ]
  },
  {
   "cell_type": "code",
   "execution_count": 20,
   "metadata": {},
   "outputs": [],
   "source": [
    "df_timetable_racer[\"rank\"].replace(race_data.RANK_NUM, inplace=True)"
   ]
  },
  {
   "cell_type": "code",
   "execution_count": 8,
   "metadata": {},
   "outputs": [],
   "source": [
    "all_data = pd.merge(df_race, df_timetable_racer, on=['race_id'])\n",
    "all_data = pd.merge(all_data, df_racer_result, on=['time_table_racer_id'])"
   ]
  },
  {
   "cell_type": "code",
   "execution_count": 23,
   "metadata": {},
   "outputs": [
    {
     "data": {
      "text/plain": [
       "<matplotlib.axes._subplots.AxesSubplot at 0x7f98c9de55f8>"
      ]
     },
     "execution_count": 23,
     "metadata": {},
     "output_type": "execute_result"
    },
    {
     "data": {
      "image/png": "[encoded data removed]",
      "text/plain": [
       "<Figure size 720x720 with 1 Axes>"
      ]
     },
     "metadata": {},
     "output_type": "display_data"
    }
   ],
   "source": [
    "plt.figure(figsize=(10, 10))\n",
    "sns.scatterplot(x='course', y='time', data=all_data[all_data.distance == 1800].sample(500))"
   ]
  },
  {
   "cell_type": "markdown",
   "metadata": {},
   "source": [
    "# ここから前処理"
   ]
  },
  {
   "cell_type": "markdown",
   "metadata": {},
   "source": [
    "### ここからレース毎の集計(train とtestを分ける前に行って問題ない集計処理)"
   ]
  },
  {
   "cell_type": "code",
   "execution_count": 26,
   "metadata": {},
   "outputs": [],
   "source": [
    "all_data[\"month\"] = all_data.deadline.dt.month"
   ]
  },
  {
   "cell_type": "code",
   "execution_count": 27,
   "metadata": {},
   "outputs": [],
   "source": [
    "all_data[\"is_short_race\"] = all_data.distance != 1800"
   ]
  },
  {
   "cell_type": "code",
   "execution_count": 28,
   "metadata": {},
   "outputs": [],
   "source": [
    "course_1_racer = all_data[all_data.course == 1]\n",
    "grouped_df = course_1_racer.groupby([\"race_id\"]).racer_id.mean()\n",
    "grouped_df.name = 'course_1_racer_id'\n",
    "all_data = pd.merge(all_data, grouped_df, on=[\"race_id\"], how='left')\n",
    "\n",
    "course_racer = all_data[all_data.course == 2]\n",
    "grouped_df = course_racer.groupby([\"race_id\"]).racer_id.mean()\n",
    "grouped_df.name = 'course_2_racer_id'\n",
    "all_data = pd.merge(all_data, grouped_df, on=[\"race_id\"], how='left')\n",
    "\n",
    "course_racer = all_data[all_data.course == 3]\n",
    "grouped_df = course_racer.groupby([\"race_id\"]).racer_id.mean()\n",
    "grouped_df.name = 'course_3_racer_id'\n",
    "all_data = pd.merge(all_data, grouped_df, on=[\"race_id\"], how='left')\n",
    "\n",
    "course_racer = all_data[all_data.course == 4]\n",
    "grouped_df = course_racer.groupby([\"race_id\"]).racer_id.mean()\n",
    "grouped_df.name = 'course_4_racer_id'\n",
    "all_data = pd.merge(all_data, grouped_df, on=[\"race_id\"], how='left')\n",
    "\n",
    "course_racer = all_data[all_data.course == 5]\n",
    "grouped_df = course_racer.groupby([\"race_id\"]).racer_id.mean()\n",
    "grouped_df.name = 'course_5_racer_id'\n",
    "all_data = pd.merge(all_data, grouped_df, on=[\"race_id\"], how='left')\n",
    "\n",
    "course_racer = all_data[all_data.course == 6]\n",
    "grouped_df = course_racer.groupby([\"race_id\"]).racer_id.mean()\n",
    "grouped_df.name = 'course_6_racer_id'\n",
    "all_data = pd.merge(all_data, grouped_df, on=[\"race_id\"], how='left')"
   ]
  },
  {
   "cell_type": "code",
   "execution_count": 29,
   "metadata": {},
   "outputs": [],
   "source": [
    "course_1_racer = all_data[all_data.course == 1]\n",
    "grouped_df = course_1_racer.groupby([\"race_id\"]).win_rate.mean()\n",
    "grouped_df.name = 'course_1_win_rate'\n",
    "all_data = pd.merge(all_data, grouped_df, on=[\"race_id\"], how='left')\n",
    "\n",
    "course_1_racer = all_data[all_data.course == 2]\n",
    "grouped_df = course_1_racer.groupby([\"race_id\"]).win_rate.mean()\n",
    "grouped_df.name = 'course_2_win_rate'\n",
    "all_data = pd.merge(all_data, grouped_df, on=[\"race_id\"], how='left')\n",
    "\n",
    "course_1_racer = all_data[all_data.course == 3]\n",
    "grouped_df = course_1_racer.groupby([\"race_id\"]).win_rate.mean()\n",
    "grouped_df.name = 'course_3_win_rate'\n",
    "all_data = pd.merge(all_data, grouped_df, on=[\"race_id\"], how='left')\n",
    "\n",
    "course_1_racer = all_data[all_data.course == 4]\n",
    "grouped_df = course_1_racer.groupby([\"race_id\"]).win_rate.mean()\n",
    "grouped_df.name = 'course_4_win_rate'\n",
    "all_data = pd.merge(all_data, grouped_df, on=[\"race_id\"], how='left')\n",
    "\n",
    "course_1_racer = all_data[all_data.course == 5]\n",
    "grouped_df = course_1_racer.groupby([\"race_id\"]).win_rate.mean()\n",
    "grouped_df.name = 'course_5_win_rate'\n",
    "all_data = pd.merge(all_data, grouped_df, on=[\"race_id\"], how='left')\n",
    "\n",
    "course_1_racer = all_data[all_data.course == 6]\n",
    "grouped_df = course_1_racer.groupby([\"race_id\"]).win_rate.mean()\n",
    "grouped_df.name = 'course_6_win_rate'\n",
    "all_data = pd.merge(all_data, grouped_df, on=[\"race_id\"], how='left')"
   ]
  },
  {
   "cell_type": "code",
   "execution_count": 30,
   "metadata": {},
   "outputs": [],
   "source": [
    "all_train_data = all_data[(all_data.deadline < dt.datetime(2020,7,1))]\n",
    "test_data = all_data[(dt.datetime(2020,7,1) <= all_data.deadline) & (all_data.deadline <= dt.datetime(2020,7,30))]"
   ]
  },
  {
   "cell_type": "markdown",
   "metadata": {},
   "source": [
    "### 平均タイムとかの集計は、学習データのみでする必要がある"
   ]
  },
  {
   "cell_type": "code",
   "execution_count": 31,
   "metadata": {},
   "outputs": [],
   "source": [
    "train_data , valid_data = train_test_split(all_train_data, random_state=0, test_size=0.2)"
   ]
  },
  {
   "cell_type": "code",
   "execution_count": 32,
   "metadata": {},
   "outputs": [],
   "source": [
    "# moter_id\n",
    "grouped_df = train_data.groupby([\"moter_id\"]).time.mean()\n",
    "grouped_df.name = 'mean_time_by_moter_id'\n",
    "train_data = pd.merge(train_data, grouped_df, on=[\"moter_id\"])\n",
    "valid_data = pd.merge(valid_data, grouped_df, on=[\"moter_id\"])\n",
    "test_data= pd.merge(test_data, grouped_df, on=[\"moter_id\"])"
   ]
  },
  {
   "cell_type": "code",
   "execution_count": 33,
   "metadata": {},
   "outputs": [],
   "source": [
    "# 場所、コース毎の順位\n",
    "grouped_df = train_data.groupby([\"course\",\"place\"]).prize.mean()\n",
    "grouped_df.name = 'mean_prize_by_course_place'\n",
    "train_data = pd.merge(train_data, grouped_df, on=[\"course\",\"place\"])\n",
    "valid_data = pd.merge(valid_data, grouped_df, on=[\"course\",\"place\"])\n",
    "test_data= pd.merge(test_data, grouped_df, on=[\"course\",\"place\"])"
   ]
  },
  {
   "cell_type": "code",
   "execution_count": 34,
   "metadata": {},
   "outputs": [],
   "source": [
    "# 場所、コース毎の順位\n",
    "grouped_df = train_data.groupby([\"course\",\"place\"]).prize.median()\n",
    "grouped_df.name = 'median_prize_by_course_place'\n",
    "train_data = pd.merge(train_data, grouped_df, on=[\"course\",\"place\"])\n",
    "valid_data = pd.merge(valid_data, grouped_df, on=[\"course\",\"place\"])\n",
    "test_data= pd.merge(test_data, grouped_df, on=[\"course\",\"place\"])"
   ]
  },
  {
   "cell_type": "code",
   "execution_count": 35,
   "metadata": {},
   "outputs": [],
   "source": [
    "# moter_id\n",
    "grouped_df = train_data.groupby([\"moter_id\"]).prize.mean()\n",
    "grouped_df.name = 'mean_prize_by_moter_id'\n",
    "train_data = pd.merge(train_data, grouped_df, on=[\"moter_id\"])\n",
    "valid_data = pd.merge(valid_data, grouped_df, on=[\"moter_id\"])\n",
    "test_data= pd.merge(test_data, grouped_df, on=[\"moter_id\"])"
   ]
  },
  {
   "cell_type": "code",
   "execution_count": 36,
   "metadata": {},
   "outputs": [],
   "source": [
    "# moter_id\n",
    "grouped_df = train_data.groupby([\"moter_id\"]).prize.median()\n",
    "grouped_df.name = 'median_prize_by_moter_id'\n",
    "train_data = pd.merge(train_data, grouped_df, on=[\"moter_id\"])\n",
    "valid_data = pd.merge(valid_data, grouped_df, on=[\"moter_id\"])\n",
    "test_data= pd.merge(test_data, grouped_df, on=[\"moter_id\"])"
   ]
  },
  {
   "cell_type": "code",
   "execution_count": 37,
   "metadata": {},
   "outputs": [],
   "source": [
    "# 場所、コース毎のタイム(1800mのみ)\n",
    "grouped_df = train_data[train_data.distance == 1800].groupby([\"course\",\"place\"]).time.mean()\n",
    "grouped_df.name = 'mean_time_by_course_place'\n",
    "train_data = pd.merge(train_data, grouped_df, on=[\"course\",\"place\"])\n",
    "valid_data = pd.merge(valid_data, grouped_df, on=[\"course\",\"place\"])\n",
    "test_data= pd.merge(test_data, grouped_df, on=[\"course\",\"place\"])"
   ]
  },
  {
   "cell_type": "code",
   "execution_count": 38,
   "metadata": {},
   "outputs": [],
   "source": [
    "# 場所、コース毎のタイム(1800mのみ)\n",
    "grouped_df = train_data[train_data.distance == 1800].groupby([\"course\",\"place\"]).time.median()\n",
    "grouped_df.name = 'median_time_by_course_place'\n",
    "train_data = pd.merge(train_data, grouped_df, on=[\"course\",\"place\"])\n",
    "valid_data = pd.merge(valid_data, grouped_df, on=[\"course\",\"place\"])\n",
    "test_data= pd.merge(test_data, grouped_df, on=[\"course\",\"place\"])"
   ]
  },
  {
   "cell_type": "code",
   "execution_count": 39,
   "metadata": {},
   "outputs": [],
   "source": [
    "# 場所、コース毎のタイム(1800mのみ)\n",
    "grouped_df = train_data[train_data.distance == 1800].groupby([\"place\"]).time.median()\n",
    "grouped_df.name = 'median_time_by_place'\n",
    "train_data = pd.merge(train_data, grouped_df, on=[\"place\"])\n",
    "valid_data = pd.merge(valid_data, grouped_df, on=[\"place\"])\n",
    "test_data= pd.merge(test_data, grouped_df, on=[\"place\"])\n",
    "\n",
    "grouped_df = train_data[train_data.distance == 1800].groupby([\"place\"]).time.mean()\n",
    "grouped_df.name = 'mean_time_by_place'\n",
    "train_data = pd.merge(train_data, grouped_df, on=[\"place\"])\n",
    "valid_data = pd.merge(valid_data, grouped_df, on=[\"place\"])\n",
    "test_data= pd.merge(test_data, grouped_df, on=[\"place\"])"
   ]
  },
  {
   "cell_type": "markdown",
   "metadata": {},
   "source": [
    "## ここから機械学習"
   ]
  },
  {
   "cell_type": "code",
   "execution_count": 40,
   "metadata": {},
   "outputs": [],
   "source": [
    "# 2020/07のレース結果を予測する\n",
    "# 利用するデータは2020/06までのもの"
   ]
  },
  {
   "cell_type": "code",
   "execution_count": 9,
   "metadata": {},
   "outputs": [
    {
     "data": {
      "text/plain": [
       "30"
      ]
     },
     "execution_count": 9,
     "metadata": {},
     "output_type": "execute_result"
    }
   ],
   "source": [
    "cols = [\n",
    "    \"place\",\n",
    "    \"race_number\",\n",
    "#     \"distance\",\n",
    "    \"course\",\n",
    "    \"age\",\n",
    "    \"weight\",\n",
    "    \"rank\",\n",
    "    \"win_rate\",\n",
    "    \"exacta_rate\",\n",
    "    \"win_rate_place\",\n",
    "    \"exacta_race_place\",\n",
    "    \"moter_id\",\n",
    "    \"exacta_race_mortor\",\n",
    "    \"boat_id\",\n",
    "    \"exacta_race_boat\",\n",
    "    \"exhibition_time\",\n",
    "    \"tilt\",\n",
    "    \"month\",\n",
    "    \"mean_time_by_place\",\n",
    "    \"median_time_by_place\",\n",
    "    'mean_time_by_course_place',\n",
    "    \"median_time_by_course_place\",\n",
    "    \"racer_id\",\n",
    "    'course_1_racer_id',\n",
    "    'course_2_racer_id',\n",
    "    'course_3_racer_id',\n",
    "    'course_4_racer_id',\n",
    "    'course_5_racer_id',\n",
    "    'course_6_racer_id',\n",
    "    'mean_prize_by_course_place',\n",
    "    'median_prize_by_course_place',\n",
    "#     'mean_prize_by_moter_id',\n",
    "#     'median_prize_by_moter_id',\n",
    "#     'course_1_win_rate',\n",
    "#     'course_2_win_rate',\n",
    "#     'course_3_win_rate',\n",
    "#     'course_4_win_rate',\n",
    "#     'course_5_win_rate',\n",
    "#     'course_6_win_rate',\n",
    "#     'mean_time_by_moter_id',\n",
    "#     \"mean_time_by_course\"\n",
    "#     \"is_short_race\"\n",
    "]\n",
    "len(cols)"
   ]
  },
  {
   "cell_type": "code",
   "execution_count": 42,
   "metadata": {},
   "outputs": [],
   "source": [
    "train_dataset = lgb.Dataset(train_data[cols], train_data[\"prize\"])\n",
    "valid_dataset = lgb.Dataset(valid_data[cols], valid_data[\"prize\"])"
   ]
  },
  {
   "cell_type": "code",
   "execution_count": 12,
   "metadata": {},
   "outputs": [],
   "source": [
    "params = {'bagging_fraction': 0.9898106657338858,\n",
    " 'bagging_freq': 1,\n",
    " 'feature_fraction': 0.8,\n",
    " 'feature_pre_filter': False,\n",
    " 'lambda_l1': 8.559554598335243,\n",
    " 'lambda_l2': 1.9907443721757583,\n",
    " 'metric': 'rmse',\n",
    " 'min_child_samples': 20,\n",
    " 'min_data_in_leaf': 20,\n",
    " 'num_leaves': 26,\n",
    " 'objective': 'regression',\n",
    " 'random_seed': 0}"
   ]
  },
  {
   "cell_type": "code",
   "execution_count": 44,
   "metadata": {},
   "outputs": [],
   "source": [
    "# tuner = optlgb.LightGBMTunerCV(tuner.best_params, train_dataset,\n",
    "#                             num_boost_round=10000,\n",
    "#                             verbose_eval=1000, early_stopping_rounds=100, folds=KFold(n_splits=5))\n",
    "\n",
    "# ハイパーパラメータ探索の実行\n",
    "# tuner.run()"
   ]
  },
  {
   "cell_type": "code",
   "execution_count": 45,
   "metadata": {},
   "outputs": [],
   "source": [
    "# tuner.best_params"
   ]
  },
  {
   "cell_type": "code",
   "execution_count": 21,
   "metadata": {},
   "outputs": [
    {
     "name": "stdout",
     "output_type": "stream",
     "text": [
      "Training until validation scores don't improve for 10 rounds\n",
      "Early stopping, best iteration is:\n",
      "[133]\tvalid_0's rmse: 1.15781\n"
     ]
    }
   ],
   "source": [
    "lbgm = lgb.train(params, train_dataset, valid_sets=[valid_dataset],\n",
    "                num_boost_round=10000, early_stopping_rounds=10, verbose_eval=1000)"
   ]
  },
  {
   "cell_type": "code",
   "execution_count": 22,
   "metadata": {},
   "outputs": [
    {
     "data": {
      "text/plain": [
       "1.1578108966122675"
      ]
     },
     "execution_count": 22,
     "metadata": {},
     "output_type": "execute_result"
    }
   ],
   "source": [
    "lbgm.best_score['valid_0']['rmse']"
   ]
  },
  {
   "cell_type": "code",
   "execution_count": 23,
   "metadata": {},
   "outputs": [
    {
     "data": {
      "text/plain": [
       "<matplotlib.axes._subplots.AxesSubplot at 0x7f9346281cf8>"
      ]
     },
     "execution_count": 23,
     "metadata": {},
     "output_type": "execute_result"
    },
    {
     "data": {
      "image/png": "[encoded data removed]",
      "text/plain": [
       "<Figure size 576x576 with 1 Axes>"
      ]
     },
     "metadata": {},
     "output_type": "display_data"
    }
   ],
   "source": [
    "lgb.plot_importance(lbgm, importance_type='gain', figsize=(8, 8))"
   ]
  },
  {
   "cell_type": "markdown",
   "metadata": {},
   "source": [
    "# ここから予測結果のスコア計算"
   ]
  },
  {
   "cell_type": "code",
   "execution_count": 25,
   "metadata": {},
   "outputs": [
    {
     "name": "stderr",
     "output_type": "stream",
     "text": [
      "/Users/kobayashiyouta/.pyenv/versions/anaconda3-5.1.0/lib/python3.6/site-packages/ipykernel_launcher.py:3: SettingWithCopyWarning: \n",
      "A value is trying to be set on a copy of a slice from a DataFrame.\n",
      "Try using .loc[row_indexer,col_indexer] = value instead\n",
      "\n",
      "See the caveats in the documentation: https://pandas.pydata.org/pandas-docs/stable/user_guide/indexing.html#returning-a-view-versus-a-copy\n",
      "  This is separate from the ipykernel package so we can avoid doing imports until\n"
     ]
    }
   ],
   "source": [
    "pred = lbgm.predict(test_data[cols])\n",
    "df_pred = test_data[[\"race_id\", \"distance\", \"course\", \"prize\", \"time\"]]\n",
    "df_pred[\"pred_prize\"] = pred\n",
    "\n",
    "# 一位予想\n",
    "pred_first_prize = df_pred.groupby([\"race_id\"]).pred_prize.min()\n",
    "pred_first_prize = pred_first_prize.rename(\"pred_1st_prize\")\n",
    "df_pred = pd.merge(df_pred, pred_first_prize, on=\"race_id\")\n",
    "df_pred[\"is_1st_pred\"] = (df_pred.pred_prize == df_pred.pred_1st_prize)\n",
    "\n",
    "# 二位予想\n",
    "pred_second_prize = df_pred.loc[df_pred.is_1st_pred == False].groupby([\"race_id\"]).pred_prize.min()\n",
    "pred_second_prize = pred_second_prize.rename(\"pred_2nd_prize\")\n",
    "df_pred = pd.merge(df_pred, pred_second_prize, on=\"race_id\")\n",
    "df_pred[\"is_2nd_pred\"] = (df_pred.pred_prize == df_pred.pred_2nd_prize)\n",
    "\n",
    "# 3位予想\n",
    "pred_second_prize = df_pred.loc[(df_pred.is_1st_pred == False) & (df_pred.is_2nd_pred == False)].groupby([\"race_id\"]).pred_prize.min()\n",
    "pred_second_prize = pred_second_prize.rename(\"pred_3rd_prize\")\n",
    "df_pred = pd.merge(df_pred, pred_second_prize, on=\"race_id\")\n",
    "df_pred[\"is_3rd_pred\"] = (df_pred.pred_prize == df_pred.pred_3rd_prize)\n",
    "\n",
    "df_pred[\"is_1st\"] = (df_pred.prize == 1.0)\n",
    "df_pred[\"is_2nd\"] = (df_pred.prize == 2.0)\n",
    "df_pred[\"is_3rd\"] = (df_pred.prize == 3.0)\n"
   ]
  },
  {
   "cell_type": "code",
   "execution_count": 26,
   "metadata": {},
   "outputs": [
    {
     "data": {
      "text/plain": [
       "array([[13612,  1751],\n",
       "       [ 1751,  2573]])"
      ]
     },
     "execution_count": 26,
     "metadata": {},
     "output_type": "execute_result"
    }
   ],
   "source": [
    "confusion_matrix(df_pred.is_1st, df_pred.is_1st_pred)"
   ]
  },
  {
   "cell_type": "code",
   "execution_count": 27,
   "metadata": {},
   "outputs": [
    {
     "data": {
      "text/plain": [
       "array([[12458,  2905],\n",
       "       [ 2905,  1419]])"
      ]
     },
     "execution_count": 27,
     "metadata": {},
     "output_type": "execute_result"
    }
   ],
   "source": [
    "confusion_matrix(df_pred.is_2nd, df_pred.is_2nd_pred)"
   ]
  },
  {
   "cell_type": "code",
   "execution_count": 28,
   "metadata": {},
   "outputs": [
    {
     "data": {
      "text/plain": [
       "array([[12351,  3010],\n",
       "       [ 3012,  1314]])"
      ]
     },
     "execution_count": 28,
     "metadata": {},
     "output_type": "execute_result"
    }
   ],
   "source": [
    "confusion_matrix(df_pred.is_3rd, df_pred.is_3rd_pred)"
   ]
  },
  {
   "cell_type": "code",
   "execution_count": 29,
   "metadata": {},
   "outputs": [
    {
     "data": {
      "text/plain": [
       "1183"
      ]
     },
     "execution_count": 29,
     "metadata": {},
     "output_type": "execute_result"
    }
   ],
   "source": [
    "set_1st = set(df_pred[(df_pred.is_1st == True) & (df_pred.is_1st_pred == True)].race_id.unique())\n",
    "set_2nd = set(df_pred[(df_pred.is_2nd == True) & (df_pred.is_2nd_pred == True)].race_id.unique())\n",
    "len(set_1st & set_2nd)"
   ]
  },
  {
   "cell_type": "code",
   "execution_count": 30,
   "metadata": {},
   "outputs": [
    {
     "data": {
      "text/plain": [
       "657"
      ]
     },
     "execution_count": 30,
     "metadata": {},
     "output_type": "execute_result"
    }
   ],
   "source": [
    "set_1st = set(df_pred[(df_pred.is_1st == True) & (df_pred.is_1st_pred == True)].race_id.unique())\n",
    "set_2nd = set(df_pred[(df_pred.is_2nd == True) & (df_pred.is_2nd_pred == True)].race_id.unique())\n",
    "set_3rd = set(df_pred[(df_pred.is_3rd == True) & (df_pred.is_3rd_pred == True)].race_id.unique())\n",
    "len(set_1st & set_2nd & set_3rd)"
   ]
  },
  {
   "cell_type": "code",
   "execution_count": 402,
   "metadata": {},
   "outputs": [],
   "source": [
    "with open('result.txt', 'a') as f:\n",
    "  f.write(f\"{[params, cols, lbgm.best_score['valid_0']['rmse'], len(set_1st), len(set_2nd), len(set_1st & set_2nd)]} \\n\")"
   ]
  },
  {
   "cell_type": "code",
   "execution_count": 403,
   "metadata": {},
   "outputs": [
    {
     "data": {
      "text/plain": [
       "4327"
      ]
     },
     "execution_count": 403,
     "metadata": {},
     "output_type": "execute_result"
    }
   ],
   "source": [
    "len(df_pred.race_id.unique())"
   ]
  },
  {
   "cell_type": "code",
   "execution_count": 55,
   "metadata": {},
   "outputs": [],
   "source": [
    "MODEL_FILE_NAME = './ml_racer_prize_lgb.txt'"
   ]
  },
  {
   "cell_type": "code",
   "execution_count": 68,
   "metadata": {},
   "outputs": [
    {
     "data": {
      "text/plain": [
       "<lightgbm.basic.Booster at 0x7f98dd4365c0>"
      ]
     },
     "execution_count": 68,
     "metadata": {},
     "output_type": "execute_result"
    }
   ],
   "source": [
    "lbgm.save_model(MODEL_FILE_NAME)"
   ]
  },
  {
   "cell_type": "code",
   "execution_count": 76,
   "metadata": {},
   "outputs": [],
   "source": [
    "pivot_df = all_data[[\"race_id\", \"racer_id\", \"course\"]].pivot(index=\"race_id\", columns=\"course\", values=\"racer_id\")"
   ]
  },
  {
   "cell_type": "code",
   "execution_count": 79,
   "metadata": {},
   "outputs": [],
   "source": [
    "pivot_df.columns = [\n",
    "    'course_1_racer_id', \n",
    "    'course_2_racer_id', \n",
    "    'course_3_racer_id', \n",
    "    'course_4_racer_id',\n",
    "    'course_5_racer_id',\n",
    "    'course_6_racer_id'\n",
    "]"
   ]
  },
  {
   "cell_type": "code",
   "execution_count": 81,
   "metadata": {},
   "outputs": [
    {
     "data": {
      "text/html": [
       "<div>\n",
       "<style scoped>\n",
       "    .dataframe tbody tr th:only-of-type {\n",
       "        vertical-align: middle;\n",
       "    }\n",
       "\n",
       "    .dataframe tbody tr th {\n",
       "        vertical-align: top;\n",
       "    }\n",
       "\n",
       "    .dataframe thead th {\n",
       "        text-align: right;\n",
       "    }\n",
       "</style>\n",
       "<table border=\"1\" class=\"dataframe\">\n",
       "  <thead>\n",
       "    <tr style=\"text-align: right;\">\n",
       "      <th></th>\n",
       "      <th>race_id</th>\n",
       "      <th>place</th>\n",
       "      <th>race_number</th>\n",
       "      <th>deadline</th>\n",
       "      <th>distance</th>\n",
       "      <th>time_table_racer_id</th>\n",
       "      <th>course</th>\n",
       "      <th>racer_id</th>\n",
       "      <th>age</th>\n",
       "      <th>weight</th>\n",
       "      <th>...</th>\n",
       "      <th>course_3_win_rate</th>\n",
       "      <th>course_4_win_rate</th>\n",
       "      <th>course_5_win_rate</th>\n",
       "      <th>course_6_win_rate</th>\n",
       "      <th>course_1_racer_id_y</th>\n",
       "      <th>course_2_racer_id_y</th>\n",
       "      <th>course_3_racer_id_y</th>\n",
       "      <th>course_4_racer_id_y</th>\n",
       "      <th>course_5_racer_id_y</th>\n",
       "      <th>course_6_racer_id_y</th>\n",
       "    </tr>\n",
       "  </thead>\n",
       "  <tbody>\n",
       "    <tr>\n",
       "      <th>0</th>\n",
       "      <td>1</td>\n",
       "      <td>24</td>\n",
       "      <td>1</td>\n",
       "      <td>2020-05-23 15:16:00</td>\n",
       "      <td>1800</td>\n",
       "      <td>1</td>\n",
       "      <td>1</td>\n",
       "      <td>4004</td>\n",
       "      <td>42</td>\n",
       "      <td>53</td>\n",
       "      <td>...</td>\n",
       "      <td>3.80</td>\n",
       "      <td>NaN</td>\n",
       "      <td>4.35</td>\n",
       "      <td>NaN</td>\n",
       "      <td>4004.0</td>\n",
       "      <td>3858.0</td>\n",
       "      <td>4868.0</td>\n",
       "      <td>NaN</td>\n",
       "      <td>3936.0</td>\n",
       "      <td>NaN</td>\n",
       "    </tr>\n",
       "    <tr>\n",
       "      <th>1</th>\n",
       "      <td>1</td>\n",
       "      <td>24</td>\n",
       "      <td>1</td>\n",
       "      <td>2020-05-23 15:16:00</td>\n",
       "      <td>1800</td>\n",
       "      <td>2</td>\n",
       "      <td>2</td>\n",
       "      <td>3858</td>\n",
       "      <td>46</td>\n",
       "      <td>52</td>\n",
       "      <td>...</td>\n",
       "      <td>3.80</td>\n",
       "      <td>NaN</td>\n",
       "      <td>4.35</td>\n",
       "      <td>NaN</td>\n",
       "      <td>4004.0</td>\n",
       "      <td>3858.0</td>\n",
       "      <td>4868.0</td>\n",
       "      <td>NaN</td>\n",
       "      <td>3936.0</td>\n",
       "      <td>NaN</td>\n",
       "    </tr>\n",
       "    <tr>\n",
       "      <th>2</th>\n",
       "      <td>1</td>\n",
       "      <td>24</td>\n",
       "      <td>1</td>\n",
       "      <td>2020-05-23 15:16:00</td>\n",
       "      <td>1800</td>\n",
       "      <td>3</td>\n",
       "      <td>3</td>\n",
       "      <td>4868</td>\n",
       "      <td>29</td>\n",
       "      <td>51</td>\n",
       "      <td>...</td>\n",
       "      <td>3.80</td>\n",
       "      <td>NaN</td>\n",
       "      <td>4.35</td>\n",
       "      <td>NaN</td>\n",
       "      <td>4004.0</td>\n",
       "      <td>3858.0</td>\n",
       "      <td>4868.0</td>\n",
       "      <td>NaN</td>\n",
       "      <td>3936.0</td>\n",
       "      <td>NaN</td>\n",
       "    </tr>\n",
       "    <tr>\n",
       "      <th>3</th>\n",
       "      <td>1</td>\n",
       "      <td>24</td>\n",
       "      <td>1</td>\n",
       "      <td>2020-05-23 15:16:00</td>\n",
       "      <td>1800</td>\n",
       "      <td>5</td>\n",
       "      <td>5</td>\n",
       "      <td>3936</td>\n",
       "      <td>42</td>\n",
       "      <td>56</td>\n",
       "      <td>...</td>\n",
       "      <td>3.80</td>\n",
       "      <td>NaN</td>\n",
       "      <td>4.35</td>\n",
       "      <td>NaN</td>\n",
       "      <td>4004.0</td>\n",
       "      <td>3858.0</td>\n",
       "      <td>4868.0</td>\n",
       "      <td>NaN</td>\n",
       "      <td>3936.0</td>\n",
       "      <td>NaN</td>\n",
       "    </tr>\n",
       "    <tr>\n",
       "      <th>4</th>\n",
       "      <td>2</td>\n",
       "      <td>24</td>\n",
       "      <td>2</td>\n",
       "      <td>2020-05-23 15:42:00</td>\n",
       "      <td>1800</td>\n",
       "      <td>7</td>\n",
       "      <td>1</td>\n",
       "      <td>4241</td>\n",
       "      <td>35</td>\n",
       "      <td>54</td>\n",
       "      <td>...</td>\n",
       "      <td>NaN</td>\n",
       "      <td>4.69</td>\n",
       "      <td>NaN</td>\n",
       "      <td>3.81</td>\n",
       "      <td>4241.0</td>\n",
       "      <td>3789.0</td>\n",
       "      <td>NaN</td>\n",
       "      <td>3906.0</td>\n",
       "      <td>NaN</td>\n",
       "      <td>3506.0</td>\n",
       "    </tr>\n",
       "    <tr>\n",
       "      <th>...</th>\n",
       "      <td>...</td>\n",
       "      <td>...</td>\n",
       "      <td>...</td>\n",
       "      <td>...</td>\n",
       "      <td>...</td>\n",
       "      <td>...</td>\n",
       "      <td>...</td>\n",
       "      <td>...</td>\n",
       "      <td>...</td>\n",
       "      <td>...</td>\n",
       "      <td>...</td>\n",
       "      <td>...</td>\n",
       "      <td>...</td>\n",
       "      <td>...</td>\n",
       "      <td>...</td>\n",
       "      <td>...</td>\n",
       "      <td>...</td>\n",
       "      <td>...</td>\n",
       "      <td>...</td>\n",
       "      <td>...</td>\n",
       "      <td>...</td>\n",
       "    </tr>\n",
       "    <tr>\n",
       "      <th>160532</th>\n",
       "      <td>35999</td>\n",
       "      <td>2</td>\n",
       "      <td>11</td>\n",
       "      <td>2020-05-22 15:55:00</td>\n",
       "      <td>1800</td>\n",
       "      <td>215992</td>\n",
       "      <td>4</td>\n",
       "      <td>4144</td>\n",
       "      <td>38</td>\n",
       "      <td>53</td>\n",
       "      <td>...</td>\n",
       "      <td>5.97</td>\n",
       "      <td>6.21</td>\n",
       "      <td>NaN</td>\n",
       "      <td>NaN</td>\n",
       "      <td>3641.0</td>\n",
       "      <td>3277.0</td>\n",
       "      <td>4269.0</td>\n",
       "      <td>4144.0</td>\n",
       "      <td>NaN</td>\n",
       "      <td>NaN</td>\n",
       "    </tr>\n",
       "    <tr>\n",
       "      <th>160533</th>\n",
       "      <td>36000</td>\n",
       "      <td>2</td>\n",
       "      <td>12</td>\n",
       "      <td>2020-05-22 16:30:00</td>\n",
       "      <td>1800</td>\n",
       "      <td>215995</td>\n",
       "      <td>1</td>\n",
       "      <td>4266</td>\n",
       "      <td>34</td>\n",
       "      <td>52</td>\n",
       "      <td>...</td>\n",
       "      <td>7.11</td>\n",
       "      <td>7.62</td>\n",
       "      <td>NaN</td>\n",
       "      <td>NaN</td>\n",
       "      <td>4266.0</td>\n",
       "      <td>3159.0</td>\n",
       "      <td>4366.0</td>\n",
       "      <td>4188.0</td>\n",
       "      <td>NaN</td>\n",
       "      <td>NaN</td>\n",
       "    </tr>\n",
       "    <tr>\n",
       "      <th>160534</th>\n",
       "      <td>36000</td>\n",
       "      <td>2</td>\n",
       "      <td>12</td>\n",
       "      <td>2020-05-22 16:30:00</td>\n",
       "      <td>1800</td>\n",
       "      <td>215996</td>\n",
       "      <td>2</td>\n",
       "      <td>3159</td>\n",
       "      <td>55</td>\n",
       "      <td>54</td>\n",
       "      <td>...</td>\n",
       "      <td>7.11</td>\n",
       "      <td>7.62</td>\n",
       "      <td>NaN</td>\n",
       "      <td>NaN</td>\n",
       "      <td>4266.0</td>\n",
       "      <td>3159.0</td>\n",
       "      <td>4366.0</td>\n",
       "      <td>4188.0</td>\n",
       "      <td>NaN</td>\n",
       "      <td>NaN</td>\n",
       "    </tr>\n",
       "    <tr>\n",
       "      <th>160535</th>\n",
       "      <td>36000</td>\n",
       "      <td>2</td>\n",
       "      <td>12</td>\n",
       "      <td>2020-05-22 16:30:00</td>\n",
       "      <td>1800</td>\n",
       "      <td>215997</td>\n",
       "      <td>3</td>\n",
       "      <td>4366</td>\n",
       "      <td>34</td>\n",
       "      <td>54</td>\n",
       "      <td>...</td>\n",
       "      <td>7.11</td>\n",
       "      <td>7.62</td>\n",
       "      <td>NaN</td>\n",
       "      <td>NaN</td>\n",
       "      <td>4266.0</td>\n",
       "      <td>3159.0</td>\n",
       "      <td>4366.0</td>\n",
       "      <td>4188.0</td>\n",
       "      <td>NaN</td>\n",
       "      <td>NaN</td>\n",
       "    </tr>\n",
       "    <tr>\n",
       "      <th>160536</th>\n",
       "      <td>36000</td>\n",
       "      <td>2</td>\n",
       "      <td>12</td>\n",
       "      <td>2020-05-22 16:30:00</td>\n",
       "      <td>1800</td>\n",
       "      <td>215998</td>\n",
       "      <td>4</td>\n",
       "      <td>4188</td>\n",
       "      <td>39</td>\n",
       "      <td>52</td>\n",
       "      <td>...</td>\n",
       "      <td>7.11</td>\n",
       "      <td>7.62</td>\n",
       "      <td>NaN</td>\n",
       "      <td>NaN</td>\n",
       "      <td>4266.0</td>\n",
       "      <td>3159.0</td>\n",
       "      <td>4366.0</td>\n",
       "      <td>4188.0</td>\n",
       "      <td>NaN</td>\n",
       "      <td>NaN</td>\n",
       "    </tr>\n",
       "  </tbody>\n",
       "</table>\n",
       "<p>160537 rows × 44 columns</p>\n",
       "</div>"
      ],
      "text/plain": [
       "        race_id  place  race_number            deadline  distance  \\\n",
       "0             1     24            1 2020-05-23 15:16:00      1800   \n",
       "1             1     24            1 2020-05-23 15:16:00      1800   \n",
       "2             1     24            1 2020-05-23 15:16:00      1800   \n",
       "3             1     24            1 2020-05-23 15:16:00      1800   \n",
       "4             2     24            2 2020-05-23 15:42:00      1800   \n",
       "...         ...    ...          ...                 ...       ...   \n",
       "160532    35999      2           11 2020-05-22 15:55:00      1800   \n",
       "160533    36000      2           12 2020-05-22 16:30:00      1800   \n",
       "160534    36000      2           12 2020-05-22 16:30:00      1800   \n",
       "160535    36000      2           12 2020-05-22 16:30:00      1800   \n",
       "160536    36000      2           12 2020-05-22 16:30:00      1800   \n",
       "\n",
       "        time_table_racer_id  course  racer_id  age  weight  ...  \\\n",
       "0                         1       1      4004   42      53  ...   \n",
       "1                         2       2      3858   46      52  ...   \n",
       "2                         3       3      4868   29      51  ...   \n",
       "3                         5       5      3936   42      56  ...   \n",
       "4                         7       1      4241   35      54  ...   \n",
       "...                     ...     ...       ...  ...     ...  ...   \n",
       "160532               215992       4      4144   38      53  ...   \n",
       "160533               215995       1      4266   34      52  ...   \n",
       "160534               215996       2      3159   55      54  ...   \n",
       "160535               215997       3      4366   34      54  ...   \n",
       "160536               215998       4      4188   39      52  ...   \n",
       "\n",
       "        course_3_win_rate  course_4_win_rate  course_5_win_rate  \\\n",
       "0                    3.80                NaN               4.35   \n",
       "1                    3.80                NaN               4.35   \n",
       "2                    3.80                NaN               4.35   \n",
       "3                    3.80                NaN               4.35   \n",
       "4                     NaN               4.69                NaN   \n",
       "...                   ...                ...                ...   \n",
       "160532               5.97               6.21                NaN   \n",
       "160533               7.11               7.62                NaN   \n",
       "160534               7.11               7.62                NaN   \n",
       "160535               7.11               7.62                NaN   \n",
       "160536               7.11               7.62                NaN   \n",
       "\n",
       "        course_6_win_rate  course_1_racer_id_y  course_2_racer_id_y  \\\n",
       "0                     NaN               4004.0               3858.0   \n",
       "1                     NaN               4004.0               3858.0   \n",
       "2                     NaN               4004.0               3858.0   \n",
       "3                     NaN               4004.0               3858.0   \n",
       "4                    3.81               4241.0               3789.0   \n",
       "...                   ...                  ...                  ...   \n",
       "160532                NaN               3641.0               3277.0   \n",
       "160533                NaN               4266.0               3159.0   \n",
       "160534                NaN               4266.0               3159.0   \n",
       "160535                NaN               4266.0               3159.0   \n",
       "160536                NaN               4266.0               3159.0   \n",
       "\n",
       "        course_3_racer_id_y  course_4_racer_id_y  course_5_racer_id_y  \\\n",
       "0                    4868.0                  NaN               3936.0   \n",
       "1                    4868.0                  NaN               3936.0   \n",
       "2                    4868.0                  NaN               3936.0   \n",
       "3                    4868.0                  NaN               3936.0   \n",
       "4                       NaN               3906.0                  NaN   \n",
       "...                     ...                  ...                  ...   \n",
       "160532               4269.0               4144.0                  NaN   \n",
       "160533               4366.0               4188.0                  NaN   \n",
       "160534               4366.0               4188.0                  NaN   \n",
       "160535               4366.0               4188.0                  NaN   \n",
       "160536               4366.0               4188.0                  NaN   \n",
       "\n",
       "        course_6_racer_id_y  \n",
       "0                       NaN  \n",
       "1                       NaN  \n",
       "2                       NaN  \n",
       "3                       NaN  \n",
       "4                    3506.0  \n",
       "...                     ...  \n",
       "160532                  NaN  \n",
       "160533                  NaN  \n",
       "160534                  NaN  \n",
       "160535                  NaN  \n",
       "160536                  NaN  \n",
       "\n",
       "[160537 rows x 44 columns]"
      ]
     },
     "execution_count": 81,
     "metadata": {},
     "output_type": "execute_result"
    }
   ],
   "source": [
    "pd.merge(all_data, pivot_df, on=[\"race_id\"], how='left') "
   ]
  },
  {
   "cell_type": "code",
   "execution_count": 90,
   "metadata": {},
   "outputs": [],
   "source": [
    "# 場所、コース毎の順位\n",
    "grouped_df = train_data.groupby([\"course\",\"place\"]).prize.agg(['mean', 'median'])\n",
    "grouped_df.columns = ['mean_prize_by_course_place', 'median_prize_by_course_place']"
   ]
  },
  {
   "cell_type": "code",
   "execution_count": 92,
   "metadata": {},
   "outputs": [
    {
     "data": {
      "text/html": [
       "<div>\n",
       "<style scoped>\n",
       "    .dataframe tbody tr th:only-of-type {\n",
       "        vertical-align: middle;\n",
       "    }\n",
       "\n",
       "    .dataframe tbody tr th {\n",
       "        vertical-align: top;\n",
       "    }\n",
       "\n",
       "    .dataframe thead th {\n",
       "        text-align: right;\n",
       "    }\n",
       "</style>\n",
       "<table border=\"1\" class=\"dataframe\">\n",
       "  <thead>\n",
       "    <tr style=\"text-align: right;\">\n",
       "      <th></th>\n",
       "      <th></th>\n",
       "      <th>mean_prize_by_course_place</th>\n",
       "      <th>median_prize_by_course_place</th>\n",
       "    </tr>\n",
       "    <tr>\n",
       "      <th>course</th>\n",
       "      <th>place</th>\n",
       "      <th></th>\n",
       "      <th></th>\n",
       "    </tr>\n",
       "  </thead>\n",
       "  <tbody>\n",
       "    <tr>\n",
       "      <th rowspan=\"5\" valign=\"top\">1</th>\n",
       "      <th>1</th>\n",
       "      <td>2.238041</td>\n",
       "      <td>2</td>\n",
       "    </tr>\n",
       "    <tr>\n",
       "      <th>2</th>\n",
       "      <td>1.849515</td>\n",
       "      <td>1</td>\n",
       "    </tr>\n",
       "    <tr>\n",
       "      <th>3</th>\n",
       "      <td>1.773121</td>\n",
       "      <td>1</td>\n",
       "    </tr>\n",
       "    <tr>\n",
       "      <th>4</th>\n",
       "      <td>1.815718</td>\n",
       "      <td>1</td>\n",
       "    </tr>\n",
       "    <tr>\n",
       "      <th>5</th>\n",
       "      <td>1.691832</td>\n",
       "      <td>1</td>\n",
       "    </tr>\n",
       "    <tr>\n",
       "      <th>...</th>\n",
       "      <th>...</th>\n",
       "      <td>...</td>\n",
       "      <td>...</td>\n",
       "    </tr>\n",
       "    <tr>\n",
       "      <th rowspan=\"5\" valign=\"top\">6</th>\n",
       "      <th>20</th>\n",
       "      <td>3.266811</td>\n",
       "      <td>3</td>\n",
       "    </tr>\n",
       "    <tr>\n",
       "      <th>21</th>\n",
       "      <td>3.327394</td>\n",
       "      <td>3</td>\n",
       "    </tr>\n",
       "    <tr>\n",
       "      <th>22</th>\n",
       "      <td>3.243243</td>\n",
       "      <td>3</td>\n",
       "    </tr>\n",
       "    <tr>\n",
       "      <th>23</th>\n",
       "      <td>4.605293</td>\n",
       "      <td>5</td>\n",
       "    </tr>\n",
       "    <tr>\n",
       "      <th>24</th>\n",
       "      <td>3.113111</td>\n",
       "      <td>3</td>\n",
       "    </tr>\n",
       "  </tbody>\n",
       "</table>\n",
       "<p>144 rows × 2 columns</p>\n",
       "</div>"
      ],
      "text/plain": [
       "              mean_prize_by_course_place  median_prize_by_course_place\n",
       "course place                                                          \n",
       "1      1                        2.238041                             2\n",
       "       2                        1.849515                             1\n",
       "       3                        1.773121                             1\n",
       "       4                        1.815718                             1\n",
       "       5                        1.691832                             1\n",
       "...                                  ...                           ...\n",
       "6      20                       3.266811                             3\n",
       "       21                       3.327394                             3\n",
       "       22                       3.243243                             3\n",
       "       23                       4.605293                             5\n",
       "       24                       3.113111                             3\n",
       "\n",
       "[144 rows x 2 columns]"
      ]
     },
     "execution_count": 92,
     "metadata": {},
     "output_type": "execute_result"
    }
   ],
   "source": [
    "grouped_df"
   ]
  }
 ],
 "metadata": {
  "kernelspec": {
   "display_name": "Python 3",
   "language": "python",
   "name": "python3"
  },
  "language_info": {
   "codemirror_mode": {
    "name": "ipython",
    "version": 3
   },
   "file_extension": ".py",
   "mimetype": "text/x-python",
   "name": "python",
   "nbconvert_exporter": "python",
   "pygments_lexer": "ipython3",
   "version": "3.6.7"
  }
 },
 "nbformat": 4,
 "nbformat_minor": 4
}
