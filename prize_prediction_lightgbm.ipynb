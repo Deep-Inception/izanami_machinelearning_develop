{
 "cells": [
  {
   "cell_type": "code",
   "execution_count": 1,
   "metadata": {},
   "outputs": [],
   "source": [
    "import sqlite3\n",
    "import pandas as pd\n",
    "import lightgbm as lgb\n",
    "from sklearn.model_selection import train_test_split\n",
    "from lightgbm import LGBMClassifier\n",
    "import optuna.integration.lightgbm as optlgb\n",
    "from sklearn.model_selection import KFold\n",
    "import numpy as np\n",
    "import datetime as dt\n",
    "from sklearn.metrics import confusion_matrix\n",
    "import seaborn as sns\n",
    "import matplotlib.pyplot as plt"
   ]
  },
  {
   "cell_type": "code",
   "execution_count": 2,
   "metadata": {},
   "outputs": [],
   "source": [
    "dbname = \"backend.db\""
   ]
  },
  {
   "cell_type": "code",
   "execution_count": 3,
   "metadata": {},
   "outputs": [],
   "source": [
    "def get_results(table_name, where):\n",
    "    conn=sqlite3.connect(dbname)\n",
    "    cursor = conn.cursor()\n",
    "    get_records = f\"SELECT * FROM {table_name} {where}\"\n",
    "    cursor.execute(get_records)\n",
    "    results = cursor.fetchall()\n",
    "    conn.close()\n",
    "    return results"
   ]
  },
  {
   "cell_type": "code",
   "execution_count": 258,
   "metadata": {},
   "outputs": [],
   "source": [
    "RASE_COLS = [\"race_id\", \"place\", \"race_number\", \"deadline\", \"distance\", \"title_name\", \"status\", \"create_at\"]\n",
    "TIMETABLE_RACER_COLS = [\n",
    "    \"time_table_racer_id\",\n",
    "    \"race_id\",\n",
    "    \"couse\",\n",
    "    \"racer_id\",\n",
    "    \"name\",\n",
    "    \"age\",\n",
    "    \"weight\",\n",
    "    \"rank\",\n",
    "    \"win_rate\",\n",
    "    \"exacta_rate\",\n",
    "    \"win_rate_place\",\n",
    "    \"exacta_race_place\",\n",
    "    \"moter_id\",\n",
    "    \"exacta_race_mortor\",\n",
    "    \"boat_id\",\n",
    "    \"exacta_race_boat\",\n",
    "    \"result_1\",\n",
    "    \"result_2\",\n",
    "    \"result_3\",\n",
    "    \"result_4\",\n",
    "    \"result_5\",\n",
    "    \"result_6\",\n",
    "    \"exhibition_time\",\n",
    "    \"tilt\",\n",
    "    \"create_at\"\n",
    "]\n",
    "RACER_RESULT_COLS = [\"result_id\", \"time_table_racer_id\", \"time\", \"prize\", \"disqualification\", \"create_at\"]"
   ]
  },
  {
   "cell_type": "code",
   "execution_count": 259,
   "metadata": {},
   "outputs": [],
   "source": [
    "df_race = pd.DataFrame(get_results(\"race\", \"where status = 'FINISHED'\"),columns= RASE_COLS)"
   ]
  },
  {
   "cell_type": "code",
   "execution_count": 260,
   "metadata": {},
   "outputs": [],
   "source": [
    "df_timetable_racer = pd.DataFrame(get_results(\"timetable_racer\", None),columns= TIMETABLE_RACER_COLS)"
   ]
  },
  {
   "cell_type": "code",
   "execution_count": 261,
   "metadata": {},
   "outputs": [],
   "source": [
    "df_racer_result = pd.DataFrame(get_results(\"racer_result\", \"where time is not null\"),columns= RACER_RESULT_COLS)"
   ]
  },
  {
   "cell_type": "code",
   "execution_count": 262,
   "metadata": {},
   "outputs": [],
   "source": [
    "# 使わないセルを削除\n",
    "df_race.drop([\"title_name\", \"create_at\", \"status\"], axis=1, inplace=True)"
   ]
  },
  {
   "cell_type": "code",
   "execution_count": 263,
   "metadata": {},
   "outputs": [],
   "source": [
    "# 使わないセルを削除 resultはひとまず削除\n",
    "df_timetable_racer.drop([\"name\", \n",
    "                         \"result_1\", \n",
    "                         \"result_2\", \n",
    "                         \"result_3\", \n",
    "                         \"result_4\", \n",
    "                         \"result_5\", \n",
    "                         \"result_6\",\n",
    "                         \"create_at\"], axis=1, inplace=True)"
   ]
  },
  {
   "cell_type": "code",
   "execution_count": 264,
   "metadata": {},
   "outputs": [],
   "source": [
    "df_racer_result.drop([\"result_id\", \"create_at\"], axis=1, inplace=True)"
   ]
  },
  {
   "cell_type": "code",
   "execution_count": 265,
   "metadata": {},
   "outputs": [],
   "source": [
    "df_race.place = df_race.place.astype(np.int32)\n",
    "df_race.race_number = df_race.race_number.astype(np.int32)\n",
    "df_race.deadline = pd.to_datetime(df_race.deadline)"
   ]
  },
  {
   "cell_type": "code",
   "execution_count": 266,
   "metadata": {},
   "outputs": [],
   "source": [
    "df_timetable_racer.racer_id = df_timetable_racer.racer_id.astype(np.int32)\n",
    "df_timetable_racer.moter_id = df_timetable_racer.moter_id.astype(np.int32)\n",
    "df_timetable_racer.boat_id = df_timetable_racer.boat_id.astype(np.int32)"
   ]
  },
  {
   "cell_type": "code",
   "execution_count": 267,
   "metadata": {},
   "outputs": [],
   "source": [
    "rank_num = {'A1': 1, 'A2': 2, 'B1': 3, 'B2': 4}\n",
    "df_timetable_racer[\"rank\"].replace(rank_num, inplace=True)"
   ]
  },
  {
   "cell_type": "code",
   "execution_count": 304,
   "metadata": {},
   "outputs": [],
   "source": [
    "all_data = pd.merge(df_race, df_timetable_racer, on=['race_id'])\n",
    "all_data = pd.merge(all_data, df_racer_result, on=['time_table_racer_id'])"
   ]
  },
  {
   "cell_type": "code",
   "execution_count": 305,
   "metadata": {},
   "outputs": [
    {
     "data": {
      "text/html": [
       "<div>\n",
       "<style scoped>\n",
       "    .dataframe tbody tr th:only-of-type {\n",
       "        vertical-align: middle;\n",
       "    }\n",
       "\n",
       "    .dataframe tbody tr th {\n",
       "        vertical-align: top;\n",
       "    }\n",
       "\n",
       "    .dataframe thead th {\n",
       "        text-align: right;\n",
       "    }\n",
       "</style>\n",
       "<table border=\"1\" class=\"dataframe\">\n",
       "  <thead>\n",
       "    <tr style=\"text-align: right;\">\n",
       "      <th></th>\n",
       "      <th>race_id</th>\n",
       "      <th>race_number</th>\n",
       "      <th>deadline</th>\n",
       "      <th>distance</th>\n",
       "      <th>time_table_racer_id</th>\n",
       "      <th>couse</th>\n",
       "      <th>racer_id</th>\n",
       "      <th>age</th>\n",
       "      <th>weight</th>\n",
       "      <th>rank</th>\n",
       "      <th>...</th>\n",
       "      <th>exacta_race_place</th>\n",
       "      <th>moter_id</th>\n",
       "      <th>exacta_race_mortor</th>\n",
       "      <th>boat_id</th>\n",
       "      <th>exacta_race_boat</th>\n",
       "      <th>exhibition_time</th>\n",
       "      <th>tilt</th>\n",
       "      <th>time</th>\n",
       "      <th>prize</th>\n",
       "      <th>disqualification</th>\n",
       "    </tr>\n",
       "    <tr>\n",
       "      <th>place</th>\n",
       "      <th></th>\n",
       "      <th></th>\n",
       "      <th></th>\n",
       "      <th></th>\n",
       "      <th></th>\n",
       "      <th></th>\n",
       "      <th></th>\n",
       "      <th></th>\n",
       "      <th></th>\n",
       "      <th></th>\n",
       "      <th></th>\n",
       "      <th></th>\n",
       "      <th></th>\n",
       "      <th></th>\n",
       "      <th></th>\n",
       "      <th></th>\n",
       "      <th></th>\n",
       "      <th></th>\n",
       "      <th></th>\n",
       "      <th></th>\n",
       "      <th></th>\n",
       "    </tr>\n",
       "  </thead>\n",
       "  <tbody>\n",
       "    <tr>\n",
       "      <th>1</th>\n",
       "      <td>8</td>\n",
       "      <td>8</td>\n",
       "      <td>8</td>\n",
       "      <td>8</td>\n",
       "      <td>8</td>\n",
       "      <td>8</td>\n",
       "      <td>8</td>\n",
       "      <td>8</td>\n",
       "      <td>8</td>\n",
       "      <td>8</td>\n",
       "      <td>...</td>\n",
       "      <td>8</td>\n",
       "      <td>8</td>\n",
       "      <td>8</td>\n",
       "      <td>8</td>\n",
       "      <td>8</td>\n",
       "      <td>8</td>\n",
       "      <td>8</td>\n",
       "      <td>8</td>\n",
       "      <td>8</td>\n",
       "      <td>0</td>\n",
       "    </tr>\n",
       "    <tr>\n",
       "      <th>2</th>\n",
       "      <td>6</td>\n",
       "      <td>6</td>\n",
       "      <td>6</td>\n",
       "      <td>6</td>\n",
       "      <td>6</td>\n",
       "      <td>6</td>\n",
       "      <td>6</td>\n",
       "      <td>6</td>\n",
       "      <td>6</td>\n",
       "      <td>6</td>\n",
       "      <td>...</td>\n",
       "      <td>6</td>\n",
       "      <td>6</td>\n",
       "      <td>6</td>\n",
       "      <td>6</td>\n",
       "      <td>6</td>\n",
       "      <td>6</td>\n",
       "      <td>6</td>\n",
       "      <td>6</td>\n",
       "      <td>6</td>\n",
       "      <td>0</td>\n",
       "    </tr>\n",
       "    <tr>\n",
       "      <th>4</th>\n",
       "      <td>11</td>\n",
       "      <td>11</td>\n",
       "      <td>11</td>\n",
       "      <td>11</td>\n",
       "      <td>11</td>\n",
       "      <td>11</td>\n",
       "      <td>11</td>\n",
       "      <td>11</td>\n",
       "      <td>11</td>\n",
       "      <td>11</td>\n",
       "      <td>...</td>\n",
       "      <td>11</td>\n",
       "      <td>11</td>\n",
       "      <td>11</td>\n",
       "      <td>11</td>\n",
       "      <td>11</td>\n",
       "      <td>11</td>\n",
       "      <td>11</td>\n",
       "      <td>11</td>\n",
       "      <td>11</td>\n",
       "      <td>0</td>\n",
       "    </tr>\n",
       "    <tr>\n",
       "      <th>7</th>\n",
       "      <td>5</td>\n",
       "      <td>5</td>\n",
       "      <td>5</td>\n",
       "      <td>5</td>\n",
       "      <td>5</td>\n",
       "      <td>5</td>\n",
       "      <td>5</td>\n",
       "      <td>5</td>\n",
       "      <td>5</td>\n",
       "      <td>5</td>\n",
       "      <td>...</td>\n",
       "      <td>5</td>\n",
       "      <td>5</td>\n",
       "      <td>5</td>\n",
       "      <td>5</td>\n",
       "      <td>5</td>\n",
       "      <td>5</td>\n",
       "      <td>5</td>\n",
       "      <td>5</td>\n",
       "      <td>5</td>\n",
       "      <td>0</td>\n",
       "    </tr>\n",
       "    <tr>\n",
       "      <th>10</th>\n",
       "      <td>34</td>\n",
       "      <td>34</td>\n",
       "      <td>34</td>\n",
       "      <td>34</td>\n",
       "      <td>34</td>\n",
       "      <td>34</td>\n",
       "      <td>34</td>\n",
       "      <td>34</td>\n",
       "      <td>34</td>\n",
       "      <td>34</td>\n",
       "      <td>...</td>\n",
       "      <td>34</td>\n",
       "      <td>34</td>\n",
       "      <td>34</td>\n",
       "      <td>34</td>\n",
       "      <td>34</td>\n",
       "      <td>34</td>\n",
       "      <td>34</td>\n",
       "      <td>34</td>\n",
       "      <td>34</td>\n",
       "      <td>0</td>\n",
       "    </tr>\n",
       "    <tr>\n",
       "      <th>11</th>\n",
       "      <td>26</td>\n",
       "      <td>26</td>\n",
       "      <td>26</td>\n",
       "      <td>26</td>\n",
       "      <td>26</td>\n",
       "      <td>26</td>\n",
       "      <td>26</td>\n",
       "      <td>26</td>\n",
       "      <td>26</td>\n",
       "      <td>26</td>\n",
       "      <td>...</td>\n",
       "      <td>26</td>\n",
       "      <td>26</td>\n",
       "      <td>26</td>\n",
       "      <td>26</td>\n",
       "      <td>26</td>\n",
       "      <td>26</td>\n",
       "      <td>26</td>\n",
       "      <td>26</td>\n",
       "      <td>26</td>\n",
       "      <td>0</td>\n",
       "    </tr>\n",
       "    <tr>\n",
       "      <th>12</th>\n",
       "      <td>30</td>\n",
       "      <td>30</td>\n",
       "      <td>30</td>\n",
       "      <td>30</td>\n",
       "      <td>30</td>\n",
       "      <td>30</td>\n",
       "      <td>30</td>\n",
       "      <td>30</td>\n",
       "      <td>30</td>\n",
       "      <td>30</td>\n",
       "      <td>...</td>\n",
       "      <td>30</td>\n",
       "      <td>30</td>\n",
       "      <td>30</td>\n",
       "      <td>30</td>\n",
       "      <td>30</td>\n",
       "      <td>30</td>\n",
       "      <td>30</td>\n",
       "      <td>30</td>\n",
       "      <td>30</td>\n",
       "      <td>0</td>\n",
       "    </tr>\n",
       "    <tr>\n",
       "      <th>13</th>\n",
       "      <td>11</td>\n",
       "      <td>11</td>\n",
       "      <td>11</td>\n",
       "      <td>11</td>\n",
       "      <td>11</td>\n",
       "      <td>11</td>\n",
       "      <td>11</td>\n",
       "      <td>11</td>\n",
       "      <td>11</td>\n",
       "      <td>11</td>\n",
       "      <td>...</td>\n",
       "      <td>11</td>\n",
       "      <td>11</td>\n",
       "      <td>11</td>\n",
       "      <td>11</td>\n",
       "      <td>11</td>\n",
       "      <td>11</td>\n",
       "      <td>11</td>\n",
       "      <td>11</td>\n",
       "      <td>11</td>\n",
       "      <td>0</td>\n",
       "    </tr>\n",
       "    <tr>\n",
       "      <th>14</th>\n",
       "      <td>17</td>\n",
       "      <td>17</td>\n",
       "      <td>17</td>\n",
       "      <td>17</td>\n",
       "      <td>17</td>\n",
       "      <td>17</td>\n",
       "      <td>17</td>\n",
       "      <td>17</td>\n",
       "      <td>17</td>\n",
       "      <td>17</td>\n",
       "      <td>...</td>\n",
       "      <td>17</td>\n",
       "      <td>17</td>\n",
       "      <td>17</td>\n",
       "      <td>17</td>\n",
       "      <td>17</td>\n",
       "      <td>17</td>\n",
       "      <td>17</td>\n",
       "      <td>17</td>\n",
       "      <td>17</td>\n",
       "      <td>0</td>\n",
       "    </tr>\n",
       "    <tr>\n",
       "      <th>15</th>\n",
       "      <td>19</td>\n",
       "      <td>19</td>\n",
       "      <td>19</td>\n",
       "      <td>19</td>\n",
       "      <td>19</td>\n",
       "      <td>19</td>\n",
       "      <td>19</td>\n",
       "      <td>19</td>\n",
       "      <td>19</td>\n",
       "      <td>19</td>\n",
       "      <td>...</td>\n",
       "      <td>19</td>\n",
       "      <td>19</td>\n",
       "      <td>19</td>\n",
       "      <td>19</td>\n",
       "      <td>19</td>\n",
       "      <td>19</td>\n",
       "      <td>19</td>\n",
       "      <td>19</td>\n",
       "      <td>19</td>\n",
       "      <td>0</td>\n",
       "    </tr>\n",
       "    <tr>\n",
       "      <th>16</th>\n",
       "      <td>10</td>\n",
       "      <td>10</td>\n",
       "      <td>10</td>\n",
       "      <td>10</td>\n",
       "      <td>10</td>\n",
       "      <td>10</td>\n",
       "      <td>10</td>\n",
       "      <td>10</td>\n",
       "      <td>10</td>\n",
       "      <td>10</td>\n",
       "      <td>...</td>\n",
       "      <td>10</td>\n",
       "      <td>10</td>\n",
       "      <td>10</td>\n",
       "      <td>10</td>\n",
       "      <td>10</td>\n",
       "      <td>10</td>\n",
       "      <td>10</td>\n",
       "      <td>10</td>\n",
       "      <td>10</td>\n",
       "      <td>0</td>\n",
       "    </tr>\n",
       "  </tbody>\n",
       "</table>\n",
       "<p>11 rows × 23 columns</p>\n",
       "</div>"
      ],
      "text/plain": [
       "       race_id  race_number  deadline  distance  time_table_racer_id  couse  \\\n",
       "place                                                                         \n",
       "1            8            8         8         8                    8      8   \n",
       "2            6            6         6         6                    6      6   \n",
       "4           11           11        11        11                   11     11   \n",
       "7            5            5         5         5                    5      5   \n",
       "10          34           34        34        34                   34     34   \n",
       "11          26           26        26        26                   26     26   \n",
       "12          30           30        30        30                   30     30   \n",
       "13          11           11        11        11                   11     11   \n",
       "14          17           17        17        17                   17     17   \n",
       "15          19           19        19        19                   19     19   \n",
       "16          10           10        10        10                   10     10   \n",
       "\n",
       "       racer_id  age  weight  rank  ...  exacta_race_place  moter_id  \\\n",
       "place                               ...                                \n",
       "1             8    8       8     8  ...                  8         8   \n",
       "2             6    6       6     6  ...                  6         6   \n",
       "4            11   11      11    11  ...                 11        11   \n",
       "7             5    5       5     5  ...                  5         5   \n",
       "10           34   34      34    34  ...                 34        34   \n",
       "11           26   26      26    26  ...                 26        26   \n",
       "12           30   30      30    30  ...                 30        30   \n",
       "13           11   11      11    11  ...                 11        11   \n",
       "14           17   17      17    17  ...                 17        17   \n",
       "15           19   19      19    19  ...                 19        19   \n",
       "16           10   10      10    10  ...                 10        10   \n",
       "\n",
       "       exacta_race_mortor  boat_id  exacta_race_boat  exhibition_time  tilt  \\\n",
       "place                                                                         \n",
       "1                       8        8                 8                8     8   \n",
       "2                       6        6                 6                6     6   \n",
       "4                      11       11                11               11    11   \n",
       "7                       5        5                 5                5     5   \n",
       "10                     34       34                34               34    34   \n",
       "11                     26       26                26               26    26   \n",
       "12                     30       30                30               30    30   \n",
       "13                     11       11                11               11    11   \n",
       "14                     17       17                17               17    17   \n",
       "15                     19       19                19               19    19   \n",
       "16                     10       10                10               10    10   \n",
       "\n",
       "       time  prize  disqualification  \n",
       "place                                 \n",
       "1         8      8                 0  \n",
       "2         6      6                 0  \n",
       "4        11     11                 0  \n",
       "7         5      5                 0  \n",
       "10       34     34                 0  \n",
       "11       26     26                 0  \n",
       "12       30     30                 0  \n",
       "13       11     11                 0  \n",
       "14       17     17                 0  \n",
       "15       19     19                 0  \n",
       "16       10     10                 0  \n",
       "\n",
       "[11 rows x 23 columns]"
      ]
     },
     "execution_count": 305,
     "metadata": {},
     "output_type": "execute_result"
    }
   ],
   "source": [
    "all_data[(all_data.racer_id == 3654)].groupby(\"place\").count()"
   ]
  },
  {
   "cell_type": "code",
   "execution_count": 306,
   "metadata": {},
   "outputs": [
    {
     "data": {
      "text/plain": [
       "<matplotlib.axes._subplots.AxesSubplot at 0x7fedfdc5d400>"
      ]
     },
     "execution_count": 306,
     "metadata": {},
     "output_type": "execute_result"
    },
    {
     "data": {
      "image/png": "[encoded data removed]",
      "text/plain": [
       "<Figure size 720x720 with 1 Axes>"
      ]
     },
     "metadata": {},
     "output_type": "display_data"
    }
   ],
   "source": [
    "plt.figure(figsize=(10, 10))\n",
    "sns.scatterplot(x='couse', y='time', data=all_data[all_data.distance == 1800].sample(500))"
   ]
  },
  {
   "cell_type": "markdown",
   "metadata": {},
   "source": [
    "# ここから前処理"
   ]
  },
  {
   "cell_type": "markdown",
   "metadata": {},
   "source": [
    "### ここからレース毎の集計(train とtestを分ける前に行って問題ない集計処理)"
   ]
  },
  {
   "cell_type": "code",
   "execution_count": 307,
   "metadata": {},
   "outputs": [],
   "source": [
    "all_data[\"month\"] = all_data.deadline.dt.month"
   ]
  },
  {
   "cell_type": "code",
   "execution_count": 308,
   "metadata": {},
   "outputs": [],
   "source": [
    "all_data[\"is_short_race\"] = all_data.distance != 1800"
   ]
  },
  {
   "cell_type": "code",
   "execution_count": 309,
   "metadata": {},
   "outputs": [],
   "source": [
    "couse_1_racer = all_data[all_data.couse == 1]\n",
    "grouped_df = couse_1_racer.groupby([\"race_id\"]).racer_id.mean()\n",
    "grouped_df.name = 'couse_1_racer_id'\n",
    "all_data = pd.merge(all_data, grouped_df, on=[\"race_id\"], how='left')\n",
    "\n",
    "couse_racer = all_data[all_data.couse == 2]\n",
    "grouped_df = couse_racer.groupby([\"race_id\"]).racer_id.mean()\n",
    "grouped_df.name = 'couse_2_racer_id'\n",
    "all_data = pd.merge(all_data, grouped_df, on=[\"race_id\"], how='left')\n",
    "\n",
    "couse_racer = all_data[all_data.couse == 3]\n",
    "grouped_df = couse_racer.groupby([\"race_id\"]).racer_id.mean()\n",
    "grouped_df.name = 'couse_3_racer_id'\n",
    "all_data = pd.merge(all_data, grouped_df, on=[\"race_id\"], how='left')\n",
    "\n",
    "couse_racer = all_data[all_data.couse == 4]\n",
    "grouped_df = couse_racer.groupby([\"race_id\"]).racer_id.mean()\n",
    "grouped_df.name = 'couse_4_racer_id'\n",
    "all_data = pd.merge(all_data, grouped_df, on=[\"race_id\"], how='left')\n",
    "\n",
    "couse_racer = all_data[all_data.couse == 5]\n",
    "grouped_df = couse_racer.groupby([\"race_id\"]).racer_id.mean()\n",
    "grouped_df.name = 'couse_5_racer_id'\n",
    "all_data = pd.merge(all_data, grouped_df, on=[\"race_id\"], how='left')\n",
    "\n",
    "couse_racer = all_data[all_data.couse == 6]\n",
    "grouped_df = couse_racer.groupby([\"race_id\"]).racer_id.mean()\n",
    "grouped_df.name = 'couse_6_racer_id'\n",
    "all_data = pd.merge(all_data, grouped_df, on=[\"race_id\"], how='left')"
   ]
  },
  {
   "cell_type": "code",
   "execution_count": 310,
   "metadata": {},
   "outputs": [],
   "source": [
    "couse_1_racer = all_data[all_data.couse == 1]\n",
    "grouped_df = couse_1_racer.groupby([\"race_id\"]).win_rate.mean()\n",
    "grouped_df.name = 'couse_1_win_rate'\n",
    "all_data = pd.merge(all_data, grouped_df, on=[\"race_id\"], how='left')\n",
    "\n",
    "couse_1_racer = all_data[all_data.couse == 2]\n",
    "grouped_df = couse_1_racer.groupby([\"race_id\"]).win_rate.mean()\n",
    "grouped_df.name = 'couse_2_win_rate'\n",
    "all_data = pd.merge(all_data, grouped_df, on=[\"race_id\"], how='left')\n",
    "\n",
    "couse_1_racer = all_data[all_data.couse == 3]\n",
    "grouped_df = couse_1_racer.groupby([\"race_id\"]).win_rate.mean()\n",
    "grouped_df.name = 'couse_3_win_rate'\n",
    "all_data = pd.merge(all_data, grouped_df, on=[\"race_id\"], how='left')\n",
    "\n",
    "couse_1_racer = all_data[all_data.couse == 4]\n",
    "grouped_df = couse_1_racer.groupby([\"race_id\"]).win_rate.mean()\n",
    "grouped_df.name = 'couse_4_win_rate'\n",
    "all_data = pd.merge(all_data, grouped_df, on=[\"race_id\"], how='left')\n",
    "\n",
    "couse_1_racer = all_data[all_data.couse == 5]\n",
    "grouped_df = couse_1_racer.groupby([\"race_id\"]).win_rate.mean()\n",
    "grouped_df.name = 'couse_5_win_rate'\n",
    "all_data = pd.merge(all_data, grouped_df, on=[\"race_id\"], how='left')\n",
    "\n",
    "couse_1_racer = all_data[all_data.couse == 6]\n",
    "grouped_df = couse_1_racer.groupby([\"race_id\"]).win_rate.mean()\n",
    "grouped_df.name = 'couse_6_win_rate'\n",
    "all_data = pd.merge(all_data, grouped_df, on=[\"race_id\"], how='left')"
   ]
  },
  {
   "cell_type": "code",
   "execution_count": 311,
   "metadata": {},
   "outputs": [],
   "source": [
    "all_train_data = all_data[(all_data.deadline < dt.datetime(2020,7,1))]\n",
    "test_data = all_data[(dt.datetime(2020,7,1) <= all_data.deadline) & (all_data.deadline <= dt.datetime(2020,7,30))]"
   ]
  },
  {
   "cell_type": "markdown",
   "metadata": {},
   "source": [
    "### 平均タイムとかの集計は、学習データのみでする必要がある"
   ]
  },
  {
   "cell_type": "code",
   "execution_count": 312,
   "metadata": {},
   "outputs": [],
   "source": [
    "train_data , valid_data = train_test_split(all_train_data, random_state=0, test_size=0.2)"
   ]
  },
  {
   "cell_type": "code",
   "execution_count": 313,
   "metadata": {},
   "outputs": [],
   "source": [
    "# moter_id\n",
    "grouped_df = train_data.groupby([\"moter_id\"]).time.mean()\n",
    "grouped_df.name = 'mean_time_by_moter_id'\n",
    "train_data = pd.merge(train_data, grouped_df, on=[\"moter_id\"])\n",
    "valid_data = pd.merge(valid_data, grouped_df, on=[\"moter_id\"])\n",
    "test_data= pd.merge(test_data, grouped_df, on=[\"moter_id\"])"
   ]
  },
  {
   "cell_type": "code",
   "execution_count": 314,
   "metadata": {},
   "outputs": [],
   "source": [
    "# 場所、コース毎の順位\n",
    "grouped_df = train_data.groupby([\"couse\",\"place\"]).prize.mean()\n",
    "grouped_df.name = 'mean_prize_by_couse_place'\n",
    "train_data = pd.merge(train_data, grouped_df, on=[\"couse\",\"place\"])\n",
    "valid_data = pd.merge(valid_data, grouped_df, on=[\"couse\",\"place\"])\n",
    "test_data= pd.merge(test_data, grouped_df, on=[\"couse\",\"place\"])"
   ]
  },
  {
   "cell_type": "code",
   "execution_count": 315,
   "metadata": {},
   "outputs": [],
   "source": [
    "# 場所、コース毎の順位\n",
    "grouped_df = train_data.groupby([\"couse\",\"place\"]).prize.median()\n",
    "grouped_df.name = 'median_prize_by_couse_place'\n",
    "train_data = pd.merge(train_data, grouped_df, on=[\"couse\",\"place\"])\n",
    "valid_data = pd.merge(valid_data, grouped_df, on=[\"couse\",\"place\"])\n",
    "test_data= pd.merge(test_data, grouped_df, on=[\"couse\",\"place\"])"
   ]
  },
  {
   "cell_type": "code",
   "execution_count": 316,
   "metadata": {},
   "outputs": [],
   "source": [
    "# moter_id\n",
    "grouped_df = train_data.groupby([\"moter_id\"]).prize.mean()\n",
    "grouped_df.name = 'mean_prize_by_moter_id'\n",
    "train_data = pd.merge(train_data, grouped_df, on=[\"moter_id\"])\n",
    "valid_data = pd.merge(valid_data, grouped_df, on=[\"moter_id\"])\n",
    "test_data= pd.merge(test_data, grouped_df, on=[\"moter_id\"])"
   ]
  },
  {
   "cell_type": "code",
   "execution_count": 317,
   "metadata": {},
   "outputs": [],
   "source": [
    "# moter_id\n",
    "grouped_df = train_data.groupby([\"moter_id\"]).prize.median()\n",
    "grouped_df.name = 'median_prize_by_moter_id'\n",
    "train_data = pd.merge(train_data, grouped_df, on=[\"moter_id\"])\n",
    "valid_data = pd.merge(valid_data, grouped_df, on=[\"moter_id\"])\n",
    "test_data= pd.merge(test_data, grouped_df, on=[\"moter_id\"])"
   ]
  },
  {
   "cell_type": "code",
   "execution_count": 318,
   "metadata": {},
   "outputs": [],
   "source": [
    "# 場所、コース毎のタイム(1800mのみ)\n",
    "grouped_df = train_data[train_data.distance == 1800].groupby([\"couse\",\"place\"]).time.mean()\n",
    "grouped_df.name = 'mean_time_by_couse_place'\n",
    "train_data = pd.merge(train_data, grouped_df, on=[\"couse\",\"place\"])\n",
    "valid_data = pd.merge(valid_data, grouped_df, on=[\"couse\",\"place\"])\n",
    "test_data= pd.merge(test_data, grouped_df, on=[\"couse\",\"place\"])"
   ]
  },
  {
   "cell_type": "code",
   "execution_count": 319,
   "metadata": {},
   "outputs": [],
   "source": [
    "# 場所、コース毎のタイム(1800mのみ)\n",
    "grouped_df = train_data[train_data.distance == 1800].groupby([\"couse\",\"place\"]).time.median()\n",
    "grouped_df.name = 'median_time_by_couse_place'\n",
    "train_data = pd.merge(train_data, grouped_df, on=[\"couse\",\"place\"])\n",
    "valid_data = pd.merge(valid_data, grouped_df, on=[\"couse\",\"place\"])\n",
    "test_data= pd.merge(test_data, grouped_df, on=[\"couse\",\"place\"])"
   ]
  },
  {
   "cell_type": "code",
   "execution_count": 320,
   "metadata": {},
   "outputs": [],
   "source": [
    "# 場所、コース毎のタイム(1800mのみ)\n",
    "grouped_df = train_data[train_data.distance == 1800].groupby([\"place\"]).time.median()\n",
    "grouped_df.name = 'median_time_by_place'\n",
    "train_data = pd.merge(train_data, grouped_df, on=[\"place\"])\n",
    "valid_data = pd.merge(valid_data, grouped_df, on=[\"place\"])\n",
    "test_data= pd.merge(test_data, grouped_df, on=[\"place\"])\n",
    "\n",
    "grouped_df = train_data[train_data.distance == 1800].groupby([\"place\"]).time.mean()\n",
    "grouped_df.name = 'mean_time_by_place'\n",
    "train_data = pd.merge(train_data, grouped_df, on=[\"place\"])\n",
    "valid_data = pd.merge(valid_data, grouped_df, on=[\"place\"])\n",
    "test_data= pd.merge(test_data, grouped_df, on=[\"place\"])"
   ]
  },
  {
   "cell_type": "markdown",
   "metadata": {},
   "source": [
    "## ここから機械学習"
   ]
  },
  {
   "cell_type": "code",
   "execution_count": 321,
   "metadata": {},
   "outputs": [],
   "source": [
    "# 2020/07のレース結果を予測する\n",
    "# 利用するデータは2020/06までのもの"
   ]
  },
  {
   "cell_type": "code",
   "execution_count": 390,
   "metadata": {},
   "outputs": [
    {
     "data": {
      "text/plain": [
       "30"
      ]
     },
     "execution_count": 390,
     "metadata": {},
     "output_type": "execute_result"
    }
   ],
   "source": [
    "cols = [\n",
    "    \"place\",\n",
    "    \"race_number\",\n",
    "#     \"distance\",\n",
    "    \"couse\",\n",
    "    \"age\",\n",
    "    \"weight\",\n",
    "    \"rank\",\n",
    "    \"win_rate\",\n",
    "    \"exacta_rate\",\n",
    "    \"win_rate_place\",\n",
    "    \"exacta_race_place\",\n",
    "    \"moter_id\",\n",
    "    \"exacta_race_mortor\",\n",
    "    \"boat_id\",\n",
    "    \"exacta_race_boat\",\n",
    "    \"exhibition_time\",\n",
    "    \"tilt\",\n",
    "    \"month\",\n",
    "    \"mean_time_by_place\",\n",
    "    \"median_time_by_place\",\n",
    "    'mean_time_by_couse_place',\n",
    "    \"median_time_by_couse_place\",\n",
    "    \"racer_id\",\n",
    "    'couse_1_racer_id',\n",
    "    'couse_2_racer_id',\n",
    "    'couse_3_racer_id',\n",
    "    'couse_4_racer_id',\n",
    "    'couse_5_racer_id',\n",
    "    'couse_6_racer_id',\n",
    "    'mean_prize_by_couse_place',\n",
    "    'median_prize_by_couse_place',\n",
    "#     'mean_prize_by_moter_id',\n",
    "#     'median_prize_by_moter_id',\n",
    "#     'couse_1_win_rate',\n",
    "#     'couse_2_win_rate',\n",
    "#     'couse_3_win_rate',\n",
    "#     'couse_4_win_rate',\n",
    "#     'couse_5_win_rate',\n",
    "#     'couse_6_win_rate',\n",
    "#     'mean_time_by_moter_id',\n",
    "#     \"mean_time_by_couse\"\n",
    "#     \"is_short_race\"\n",
    "]\n",
    "len(cols)"
   ]
  },
  {
   "cell_type": "code",
   "execution_count": 391,
   "metadata": {},
   "outputs": [],
   "source": [
    "train_dataset = lgb.Dataset(train_data[cols], train_data[\"prize\"])\n",
    "valid_dataset = lgb.Dataset(valid_data[cols], valid_data[\"prize\"])"
   ]
  },
  {
   "cell_type": "code",
   "execution_count": 392,
   "metadata": {},
   "outputs": [],
   "source": [
    "params = {'bagging_fraction': 0.9898106657338858,\n",
    " 'bagging_freq': 1,\n",
    " 'feature_fraction': 0.8,\n",
    " 'feature_pre_filter': False,\n",
    " 'lambda_l1': 8.559554598335243,\n",
    " 'lambda_l2': 1.9907443721757583,\n",
    " 'metric': 'rmse',\n",
    " 'min_child_samples': 20,\n",
    " 'min_data_in_leaf': 20,\n",
    " 'num_leaves': 26,\n",
    " 'objective': 'regression',\n",
    " 'random_seed': 0}"
   ]
  },
  {
   "cell_type": "code",
   "execution_count": 393,
   "metadata": {},
   "outputs": [],
   "source": [
    "# tuner = optlgb.LightGBMTunerCV(tuner.best_params, train_dataset,\n",
    "#                             num_boost_round=10000,\n",
    "#                             verbose_eval=1000, early_stopping_rounds=100, folds=KFold(n_splits=5))\n",
    "\n",
    "# ハイパーパラメータ探索の実行\n",
    "# tuner.run()"
   ]
  },
  {
   "cell_type": "code",
   "execution_count": 394,
   "metadata": {},
   "outputs": [],
   "source": [
    "# tuner.best_params"
   ]
  },
  {
   "cell_type": "code",
   "execution_count": 395,
   "metadata": {},
   "outputs": [
    {
     "name": "stdout",
     "output_type": "stream",
     "text": [
      "Training until validation scores don't improve for 10 rounds\n",
      "Early stopping, best iteration is:\n",
      "[159]\tvalid_0's rmse: 1.13527\n"
     ]
    }
   ],
   "source": [
    "lbgm = lgb.train(params, train_dataset, valid_sets=[valid_dataset],\n",
    "                num_boost_round=10000, early_stopping_rounds=10, verbose_eval=1000)"
   ]
  },
  {
   "cell_type": "code",
   "execution_count": 396,
   "metadata": {},
   "outputs": [
    {
     "data": {
      "text/plain": [
       "1.1352686695679426"
      ]
     },
     "execution_count": 396,
     "metadata": {},
     "output_type": "execute_result"
    }
   ],
   "source": [
    "lbgm.best_score['valid_0']['rmse']"
   ]
  },
  {
   "cell_type": "code",
   "execution_count": 397,
   "metadata": {},
   "outputs": [
    {
     "data": {
      "text/plain": [
       "<matplotlib.axes._subplots.AxesSubplot at 0x7fede0f39860>"
      ]
     },
     "execution_count": 397,
     "metadata": {},
     "output_type": "execute_result"
    },
    {
     "data": {
      "image/png": "[encoded data removed]",
      "text/plain": [
       "<Figure size 576x576 with 1 Axes>"
      ]
     },
     "metadata": {},
     "output_type": "display_data"
    }
   ],
   "source": [
    "lgb.plot_importance(lbgm, importance_type='gain', figsize=(8, 8))"
   ]
  },
  {
   "cell_type": "markdown",
   "metadata": {},
   "source": [
    "# ここから予測結果のスコア計算"
   ]
  },
  {
   "cell_type": "code",
   "execution_count": 404,
   "metadata": {},
   "outputs": [
    {
     "name": "stderr",
     "output_type": "stream",
     "text": [
      "/Users/kobayashiyouta/.pyenv/versions/anaconda3-5.1.0/lib/python3.6/site-packages/ipykernel_launcher.py:3: SettingWithCopyWarning: \n",
      "A value is trying to be set on a copy of a slice from a DataFrame.\n",
      "Try using .loc[row_indexer,col_indexer] = value instead\n",
      "\n",
      "See the caveats in the documentation: https://pandas.pydata.org/pandas-docs/stable/user_guide/indexing.html#returning-a-view-versus-a-copy\n",
      "  This is separate from the ipykernel package so we can avoid doing imports until\n"
     ]
    }
   ],
   "source": [
    "pred = lbgm.predict(test_data[cols])\n",
    "df_pred = test_data[[\"race_id\", \"distance\", \"couse\", \"prize\", \"time\"]]\n",
    "df_pred[\"pred_prize\"] = pred\n",
    "\n",
    "# 一位予想\n",
    "pred_first_prize = df_pred.groupby([\"race_id\"]).pred_prize.min()\n",
    "pred_first_prize = pred_first_prize.rename(\"pred_1st_prize\")\n",
    "df_pred = pd.merge(df_pred, pred_first_prize, on=\"race_id\")\n",
    "df_pred[\"is_1st_pred\"] = (df_pred.pred_prize == df_pred.pred_1st_prize)\n",
    "\n",
    "# 二位予想\n",
    "pred_second_prize = df_pred.loc[df_pred.is_1st_pred == False].groupby([\"race_id\"]).pred_prize.min()\n",
    "pred_second_prize = pred_second_prize.rename(\"pred_2nd_prize\")\n",
    "df_pred = pd.merge(df_pred, pred_second_prize, on=\"race_id\")\n",
    "df_pred[\"is_2nd_pred\"] = (df_pred.pred_prize == df_pred.pred_2nd_prize)\n",
    "\n",
    "# 3位予想\n",
    "pred_second_prize = df_pred.loc[(df_pred.is_1st_pred == False) & (df_pred.is_2nd_pred == False)].groupby([\"race_id\"]).pred_prize.min()\n",
    "pred_second_prize = pred_second_prize.rename(\"pred_3rd_prize\")\n",
    "df_pred = pd.merge(df_pred, pred_second_prize, on=\"race_id\")\n",
    "df_pred[\"is_3rd_pred\"] = (df_pred.pred_prize == df_pred.pred_3rd_prize)\n",
    "\n",
    "df_pred[\"is_1st\"] = (df_pred.prize == 1.0)\n",
    "df_pred[\"is_2nd\"] = (df_pred.prize == 2.0)\n",
    "df_pred[\"is_3rd\"] = (df_pred.prize == 3.0)\n"
   ]
  },
  {
   "cell_type": "code",
   "execution_count": 405,
   "metadata": {},
   "outputs": [
    {
     "data": {
      "text/plain": [
       "array([[13629,  1734],\n",
       "       [ 1734,  2590]])"
      ]
     },
     "execution_count": 405,
     "metadata": {},
     "output_type": "execute_result"
    }
   ],
   "source": [
    "confusion_matrix(df_pred.is_1st, df_pred.is_1st_pred)"
   ]
  },
  {
   "cell_type": "code",
   "execution_count": 406,
   "metadata": {},
   "outputs": [
    {
     "data": {
      "text/plain": [
       "array([[12497,  2866],\n",
       "       [ 2866,  1458]])"
      ]
     },
     "execution_count": 406,
     "metadata": {},
     "output_type": "execute_result"
    }
   ],
   "source": [
    "confusion_matrix(df_pred.is_2nd, df_pred.is_2nd_pred)"
   ]
  },
  {
   "cell_type": "code",
   "execution_count": 407,
   "metadata": {},
   "outputs": [
    {
     "data": {
      "text/plain": [
       "array([[12313,  3048],\n",
       "       [ 3050,  1276]])"
      ]
     },
     "execution_count": 407,
     "metadata": {},
     "output_type": "execute_result"
    }
   ],
   "source": [
    "confusion_matrix(df_pred.is_3rd, df_pred.is_3rd_pred)"
   ]
  },
  {
   "cell_type": "code",
   "execution_count": 409,
   "metadata": {},
   "outputs": [
    {
     "data": {
      "text/plain": [
       "1215"
      ]
     },
     "execution_count": 409,
     "metadata": {},
     "output_type": "execute_result"
    }
   ],
   "source": [
    "set_1st = set(df_pred[(df_pred.is_1st == True) & (df_pred.is_1st_pred == True)].race_id.unique())\n",
    "set_2nd = set(df_pred[(df_pred.is_2nd == True) & (df_pred.is_2nd_pred == True)].race_id.unique())\n",
    "len(set_1st & set_2nd)"
   ]
  },
  {
   "cell_type": "code",
   "execution_count": 410,
   "metadata": {},
   "outputs": [
    {
     "data": {
      "text/plain": [
       "661"
      ]
     },
     "execution_count": 410,
     "metadata": {},
     "output_type": "execute_result"
    }
   ],
   "source": [
    "set_1st = set(df_pred[(df_pred.is_1st == True) & (df_pred.is_1st_pred == True)].race_id.unique())\n",
    "set_2nd = set(df_pred[(df_pred.is_2nd == True) & (df_pred.is_2nd_pred == True)].race_id.unique())\n",
    "set_3rd = set(df_pred[(df_pred.is_3rd == True) & (df_pred.is_3rd_pred == True)].race_id.unique())\n",
    "len(set_1st & set_2nd & set_3rd)"
   ]
  },
  {
   "cell_type": "code",
   "execution_count": 402,
   "metadata": {},
   "outputs": [],
   "source": [
    "with open('result.txt', 'a') as f:\n",
    "  f.write(f\"{[params, cols, lbgm.best_score['valid_0']['rmse'], len(set_1st), len(set_2nd), len(set_1st & set_2nd)]} \\n\")"
   ]
  },
  {
   "cell_type": "code",
   "execution_count": 403,
   "metadata": {},
   "outputs": [
    {
     "data": {
      "text/plain": [
       "4327"
      ]
     },
     "execution_count": 403,
     "metadata": {},
     "output_type": "execute_result"
    }
   ],
   "source": [
    "len(df_pred.race_id.unique())"
   ]
  },
  {
   "cell_type": "code",
   "execution_count": null,
   "metadata": {},
   "outputs": [],
   "source": []
  }
 ],
 "metadata": {
  "kernelspec": {
   "display_name": "Python 3",
   "language": "python",
   "name": "python3"
  },
  "language_info": {
   "codemirror_mode": {
    "name": "ipython",
    "version": 3
   },
   "file_extension": ".py",
   "mimetype": "text/x-python",
   "name": "python",
   "nbconvert_exporter": "python",
   "pygments_lexer": "ipython3",
   "version": "3.6.7"
  }
 },
 "nbformat": 4,
 "nbformat_minor": 4
}
